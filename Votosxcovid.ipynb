{
  "nbformat": 4,
  "nbformat_minor": 0,
  "metadata": {
    "colab": {
      "provenance": []
    },
    "kernelspec": {
      "name": "ir",
      "display_name": "R"
    },
    "language_info": {
      "name": "R"
    }
  },
  "cells": [
    {
      "cell_type": "markdown",
      "source": [
        "template\n"
      ],
      "metadata": {
        "id": "OOkWCw1V3KMu"
      }
    },
    {
      "cell_type": "code",
      "execution_count": 1,
      "metadata": {
        "colab": {
          "base_uri": "https://localhost:8080/"
        },
        "id": "EPXoRLci2b7t",
        "outputId": "6da5d935-5c2f-496b-a4b8-75de48d62461"
      },
      "outputs": [
        {
          "output_type": "stream",
          "name": "stdout",
          "text": [
            "19 packages can be upgraded. Run 'apt list --upgradable' to see them.\n",
            "Reading package lists...\n",
            "Building dependency tree...\n",
            "Reading state information...\n",
            "wget is already the newest version (1.21.2-2ubuntu1).\n",
            "ca-certificates is already the newest version (20230311ubuntu0.22.04.1).\n",
            "gnupg is already the newest version (2.2.27-3ubuntu2.1).\n",
            "gnupg set to manually installed.\n",
            "0 upgraded, 0 newly installed, 0 to remove and 19 not upgraded.\n",
            "-----BEGIN PGP PUBLIC KEY BLOCK-----\n",
            "\n",
            "mQINBFM+sY8BEADA70T+U0/2WNjOTLvytuXLvBC4vgA8hYvOaBS1cL3d8lu4mwr4\n",
            "W84/6p4v/mXle/0eIO2D2g+XfK72ZHZxpS+bb7yPxrkCDLGxwUd/khtTJHSbbKFo\n",
            "J73AsABflMe+8qv+E74+QTiXErTCNioFRz18sa0EvOnEAiokau6TZVYY2z9YjBNI\n",
            "yEjTi+z+g8c1RL6VmrFEpTicTpafOLbkRyw0VKnAKG7Ytp3Ksc1G9/IAoKw3Q9La\n",
            "0DJb5iX6hyB7+PNid6htK4LtPKZ2dNSrnRvNNkjj5BgcM2AT1hmxbzHNzIVmPoKA\n",
            "CQFrkdjog3/PcyjdtZG7cfoSDXrbIAZeAa2ngLv9C/DJatVDd6maPOe66gLo7+As\n",
            "ErMvO9vtiouqLdurW+Lhx0jFW9Ca3g1taLfbSDyS3X1mOGWcisbQvBqkIuoDQTeS\n",
            "V4Z04wrwTZ1HtweKG/s5fmPtZNGWVI5YNRLIwdmbGzFTMPu2XTAOd+xSK2H+46Kh\n",
            "Sh4kFeP6pBh5No4ET1MzIuDAHwl0J+mbWKPH4tIosYkcVmvEiNY5Ooq8v0I1svc3\n",
            "ZYndlXGnqlrICj6ftEf4Mxvl8ZWLD6svNCWF/r/a7CecPgVkcHwY+zBEany/Ndfk\n",
            "kA17mg5tEfksIXO/j71EdpKHdUKfysqOKgdkw0I6UGCScJlULy+jc2loTQARAQAB\n",
            "tCJEaXJrIEVkZGVsYnVldHRlbCA8ZWRkQGRlYmlhbi5vcmc+iEYEEBECAAYFAlM+\n",
            "tfoACgkQCZSR95Gw07dziACdEOBDnlXZm4Zjce4YeEKJD3e4SPsAn2SjogZ7NYAT\n",
            "zMjxcaLc7pBZ3ht+iEYEEBECAAYFAlQHRekACgkQFShl+2J8z5W7xQCgnggW4HDA\n",
            "2okBJug4eGNmrQ1LGccAnRTzYB/eEQGs3QxcMxJuSWJtkHAiiEYEEBEIAAYFAlNA\n",
            "KMIACgkQ2wQKE6PXubwz+QCfT1ef1nUaBWAC+x1y2ln4X/2R1T8AoMt4stwpK+C1\n",
            "sc/yy6WM0Asid+G7iEYEEBEIAAYFAlNcPjwACgkQebASZpNwHu/xRQCfQsq8U23p\n",
            "gVct+Au+p/VkqHMG618AnilNqrxGrA+QcsmKLenpz2qmhUuAiEYEEBEIAAYFAlSY\n",
            "jREACgkQMFbw70wtPvrQNACffFe0z0aDJLuSVwmvdSDjpuTqzkkAnR97tE15odhz\n",
            "BSFW8v+RlOYzRvH5iEYEEBEIAAYFAlSwNn8ACgkQS/29pmBF+x71/wCfTd74iN5X\n",
            "klyQDpgFhZSu3H9UiQwAnikNt8RuzOyEM2shM+TT9VBelCAaiQIcBBABAgAGBQJU\n",
            "C+BkAAoJEJzRfVgHwHE6PMwP/i+0r2zo2U5yDobYISwH+qyTlDOozZUpcLbAzmgd\n",
            "T9z4DB/LRfjvuM8kqxRGt4i1HtmWzO2mOznW/fay4V+zjKduENqOZ1LldJRwwcyB\n",
            "ohUD1d7hUmnS48J8+1UFqJ4Bwn5vQrSlNY0BrDaaOc3gokU6SaI6yodj5f6zjEWK\n",
            "lCiDSggCxFxV2FYCaZEt1/HRYV38K2UDjH9kPLa9or8/YpL+kHxOz+BKqaHEcP2O\n",
            "eRKn1216Q+WHBCIWE6aYnAT79nbwDR8AiRe5wAyuq3KzMcaqqrXDJdkO5elAGFSg\n",
            "1mB1qeIcS04esh9AUYXXkBgrQeZQ3YTzvDqRkXceLU2u/8RyUhNuR0HisY9lal12\n",
            "9sjeoiu9VYQE7rn4Pfgl/vcJp+Lo0i/fwIWmTO94cG8ait/5QLFroC1B6wjaCBwZ\n",
            "ytGnmAdJENQeQv/iZyCmygqCLw0Suqe2yh+XdM6AzEd9pZBH6gxMpz+8G0KX8F+e\n",
            "k9vkDzYFDnPUxrSRMkpXGAjSIG+mw/aHgVw2CyWlQ3ZkKHBn8UTChNni4Ms5VgwM\n",
            "NEzg8Qon60lDLtILX7b3MK2r3Rpilv2iZykGijZFMHT1PHOjQpW3zssaS3pqMUgZ\n",
            "TyJx33fPxQTJiT9tboaZEiyUYNYIBDfNFaHFU9k0ZrrxzGXiCIrx/BXfVBnWFMUp\n",
            "frIaiQIcBBABCAAGBQJTQCk2AAoJEMn8Qbj5jGbPYdcQAIKMzds2YKl9EusEpGPw\n",
            "vlaxCPOZ2koQno2zZEKmGg+vjAxwDIIrnQ2D7RDxXa7ed/id22saQ0JCYXAQGPh8\n",
            "gfaF1D0qDk0NnVzAnQbWfTeqvaP8MPx4lI1BQFvCdQVgwnThta4adBrgTX1nID64\n",
            "x1yi/9UVQrOKpFd9Xthieexbhjul5KjDUn4tTLucQDgrrbVHs2k4KS+MmPxL9nHQ\n",
            "W3XOD7y2+Z1sutxE7vxTKfl2ADFTF7HQ2bEdgQZmRnXStmPhu1lpDi74t9k7GI21\n",
            "Qlsr9GoxYIwIZ1q3MLBrCR590Gl6t2TMp1ZH0YTFTrm1C9fKZZDVngCcw74Auath\n",
            "galOkgBeyH8Ghy2ZBnhFjh/azmu8xWE6LPOemiYaYLWAv/PVJGSrgTdtswT7AMgm\n",
            "ytF3Z1suTLxec0yc7QaKDzyIikhTxw7qAcLz2bcC3DlWilfXWnsQmXrChVfGrv/R\n",
            "JntvN26PKwEIVZXf49w5cfOjuPj0dp9t2HIIkEm9KEF3xPbmeyWidJktMrXiDskg\n",
            "GNbu9HZtHyO2vAy3tQGlG/4/1++kkMwowDXC27zY1rMjCYtzVog7D4KaYx/IwT3H\n",
            "gj6ANDOiiNjnc6i2E91e312TeFyZdj68+8EXp3G0wlQm1WU8bddWm2m5Zbb3+s/b\n",
            "WZeT8QtspPsL6DLbW1P+YdXYiQIcBBABCAAGBQJTXD1cAAoJEFipIs3bXbCObugP\n",
            "/3lDWzkfQeDrmHUTO1TVkDxh7Exw54ob7Yn+n/Q/btkaDzuMVWglFCZBKaI3akXw\n",
            "ROmxTp2Re9Xir4brN4Izqfl6dfwP5fmslZkwSboKShHaHmHCf9Hn2C/5dY0rysqG\n",
            "MfczzaX1tWsGgY57hxF0Xik1ZQaeOEfgQ3Jd8XshznIUwA2Kk1tkZdGXrDG+wIbE\n",
            "L5S9ns98rzggg5KCKGXXWXCPEP5wZIoy+Trf/nO2eazW2i49xhdybH0cp4ipA7QA\n",
            "JKCekYxK3nY+P72E/joBFSD2bAes+pFwWsp03dh74FErzQ4EqO0GIXdFkfE/ZPYz\n",
            "L671lLHfXO0PHVhIqMXE2kq1mSgvPSF24w1rYmmC9gsFlH11GsilcJn9UjCzGuWr\n",
            "Ow0ZCUP6U1c87XZPdKt3QRTw/3yyjndXDbE2iQ3UvyJsioWv3cP+ET6HVIkoMsui\n",
            "XnuOpYqHOI8LJjoJSQiYAY0TxrgGrahHzuKXMsSnTEAt49LWilv5NGiXcvrbcqNu\n",
            "fDKnN2QS63ZuOnmi5otB4QsAx74Efy/76giYwdTLtP3AWTniiqbXdHIj9Cvxnhjp\n",
            "J5dFA+MMbNGM7jw9j/zep7JE7fPDRdlAhUn/nmtdaC3ze03tBcWD+9ez5W3i3hPL\n",
            "EltTvllfX9PS84WFmAhhWcmDYXd1wK4FxPbZfbRhm4MciQIcBBABCAAGBQJUlJjw\n",
            "AAoJEApQQvSXUQMcw+4P/jKffAptsSxH2rB6G7hROZDJFowGq5YcpONyC3/CQn2w\n",
            "HCqjTk9YaL0AXycvayqUm6fEjfNg+9org8XnhRyzY/+C67SHiDDjOLGrHOwxMdB+\n",
            "0yxZT7WkIBNO/qWzkpIGahho96TKKck1k9eHr7Xd0H6roQ59fXhyor5QRhVZNKYZ\n",
            "G7DGd4wNicWPiujyNhAii7LVaMta7+nIVvQwhS0sJROYZigPCSJKtNxPVMg8bDm2\n",
            "53JXCeRKWjjrtGlRfbCyheBqf33sANbzUZ6urxYvhGtusev+XUfT9qtCm/ZkcbCh\n",
            "0H92oe6S3RrZePmzwTOxTmKFXu6N798aee8H5orCwHpQ54knSu2yesAfBN78JKsy\n",
            "UdncSNg2x/+1T6Ya/hnhgnO9hJZJdK2wr+5IqWTLq+BIXAchhPUnszxzIEKn5Q3t\n",
            "i9DisflEELGDXQ/SNoWPIaG1cqG4m+98ndaNPqH934AdbXzcX8Rq6qE1zC5rgKcS\n",
            "Khzve0vVLkRrkbi9e/1dgwuORCSUeGAgScTuBWGeEoK3MLZiuZ+gM3D0jrCgbeYs\n",
            "aAKM8ouHsgIifwvxOENy8DqXkxbpwvq9zvvLF+cNMnVvmGWqwxMBXo0Le3CMQhE3\n",
            "hmpayPEDa0t8UsnA8qGXzfK0GCQX/3lAOWkZ4A3A5kRGLAyiiOj9gpwfrlFpRLDl\n",
            "iQIcBBABCAAGBQJUsDXwAAoJEL+ij4ufyK5zp6AQALSRMgYN8glULuXpUnnjOkrj\n",
            "7By5eAzixzemkbbfWjHg4YteBX8EZviaJi7dTu71rDEFWUiyux87diAY6KwUt9SS\n",
            "axQhQ4fOeAyP/ZfFforV9ZeD/hcpzVZc1/A93THJ/BWLG08bgh9sXanJLAQm6YU0\n",
            "hT4JgGv3y8yso9jHhlFFNkKK2lij/uea1Fa061XueTry8vn7g5oblm9v60s/zG+v\n",
            "jgksRbojMKYYF0j/dYF8gO32ZBDAnCSgWJb8HPbLwbcJDfAmT3wKuNXbCf+76wr/\n",
            "0LDZHXxJU5d7xhpbjO4W3FeGqHKwobk1Bcm13W6MT46femmabk9KrlBq2yNVdpyn\n",
            "IB8lmGSFcJodEulZM8YCHuSGxzy9wcQ+ScFtLRMxWbmqQhB0vj1UF1BQ0SxvkMd/\n",
            "IcyWATX4OERNdL0YvvSs/zAywIf6ku7dbMwWkXHYr0rwbibWGWBZNGFFMZzg49+B\n",
            "wFBKELxFAWgI1z37iLfwlcqNDfUVw2sb/r+6uVzPiWvhuRtZOIShatZfgwXBTSua\n",
            "l7fgRwVoIeLCHEEBSP5GX4zN4Ips3DN+tgOaxUYtXR+NVnb7tScgcMZFZfI2B/WI\n",
            "TfOw8LAvsV6hGzRh4xaWYuX0Q9OMd4EMm5GYzDELZ3zOyisv/SFHgxd4swJDHNbn\n",
            "BNU2Y2/TJRsMYXtBXJVPiQIzBBABCAAdFiEEfWrbdQ+RCFWJSEvmd8DHXntlCAgF\n",
            "AlitnkoACgkQd8DHXntlCAiwIA//TR5mF2eS7jNLnUpWAJaPfoOB+GKcIULo1czW\n",
            "MSRogTgB2uK/pvmg30KuP097P0pPRTRm9RMYYzfXwPj/DmU1qNonLc4Sduf8BKBX\n",
            "APTrszqNRVZma6ux01wtS9TQvSB4QfJ6jn+R2NrYXjGkOFrOh+DAeutS7xpW0rrN\n",
            "bJL4jYjUV1cDqeED/2Ur3miHxkUwFpYT9SkYm3uBdztqQKzdtYlZcUgN1qFu8zhH\n",
            "zE48cz6RGvFU3bQU6cvn6X0GG6oFR+i7In4BrR1xwyK22ZDJ5Ovf8WDGeR435SvH\n",
            "821rIocLN8Wmg64KjWwdW6p1QsI8NXz4a2oI2yk1q+bzX5xoEXLv6BS15yin+c7h\n",
            "BW0Ho4ORI7ugwBoLJJSx9wPyT5QQbo5IhapIwUsHAN13Ab+IokWNC5kQZYdde8GZ\n",
            "ksERDXG9TZdSEYNAxLcyU06bzQ+Flc0HcHB10kAwfIEcfuh/B29324dqSLaOWBTv\n",
            "LUgc1DDGU6dk6pwACJoQKYBLsDmrp4B3iq76hJL1NR6Mwg8lK5ius6ORjOl8neh9\n",
            "7e0KuSeL0QR1Gnq1FB80agv/KAB7k5VYVOL2oDtlwEKNHOU11A9S+c5Q78CsXWs2\n",
            "ECV5CGc2m+Aem0oJGXnq6ewejANHUXq2CeImFwQITjZ2dbykTf73Z1ZV/EP8yiEE\n",
            "5284/tOJAjsEEwECACUCGwMGCwkIBwMCBhUIAgkKCwQWAgMBAh4BAheABQJTPrNW\n",
            "AhkBAAoJEKFIn+KrmaIa0N8QAK3dhqGAn164EHI9c9XPlcSMePHqrLibIXQSN9Cp\n",
            "QCHGmeIoBBtpUrJlxKKvE+kdIYtysduMGT8dJlBjE1+LgXbF0jUrD7aRaDGAo2zX\n",
            "gnDiJmjaKrIcHuIm864O9iQcAeSz2tP9RlLoLQScgBCNJ+CaMXwlZwlLM3T4QNPt\n",
            "F7zvAiBinMwDV5iXxs9aVn4cE3+cs6lZ9XckYCHwDD1454sPqeK8nztnj0Z1exS6\n",
            "hnYzNBcjYcdLvTnyM4jM73BAl5etU3qwXtnqQ53BcIF4yNJygjZubIZQB8ZU7b4e\n",
            "NWZ4BrPWnxKagosKSrABcD8CBhoL9a4CACqmyF9Clc/rdTv0zJNk9Wr/L9qpcTP1\n",
            "bZBUTfY3zO5V/zWsIQhQxx8mLUs7yKj8rO1sg7crDxqXnOCSa6IB88X+EuU99ot3\n",
            "1C7WwknrR3mtUTW/8Vimh7eXEXU5e+91ahBFbq2mFKcrzfRTbDFqTPeCaXtNHFRq\n",
            "Z4ktnJTRN6FVMP/RJfzRORcVBfKPT2lb1fmgAXeSc0su4N61tIl+4jbs1/7bCHwz\n",
            "zWscEKTsThKGY8WqY+DfzY6eyny0SPD/nPQd2bXwTiTXFeuF0jKeN/LN2sG8tl10\n",
            "Z+6qnwHYx/65MpHN2SVrYnMA3S3iFhfc8IYOIjU4ZktdJOh3JIrHGxMEE5BC94nA\n",
            "1gKeiQI4BBMBAgAiBQJTPrGPAhsDBgsJCAcDAgYVCAIJCgsEFgIDAQIeAQIXgAAK\n",
            "CRChSJ/iq5miGlpPD/9+AUE+hDYD1dfL9a5Iz4yNGjBM+LUCbx4zSbU9Xa4RcXPL\n",
            "5PoYXmzWV8jx5Z0IMMFt+nYOeSHW/52BeD2U+W7otie1J8YV+7AUmjXtopzKsWWB\n",
            "A/BTZ33AVdw3jmmxIy3+4RrK54DDp3FMmadeshUrOmgN0mVAuXE5bQbA9lQOx+QP\n",
            "ImmoRH4HCL+Eg1qVbeEXWK2fTPNZUwogPd5gUc6L+BDT00PibL+L4z5K5cmnBRVP\n",
            "/gIrmBYWkfkYIICym+cSZ+nVfmY2OUL/VyuwIBGBnx58mbDxisEl2i5hmRGevTrR\n",
            "/M5xzjqxucrKrVv6drQCHkYy/X0bSScShv2M2Jbb5puEZedkZaogUeEozsdmh3pO\n",
            "4WxCw7BrXmP7Fug4dogb8djvmLqNcJ0F47FCNOeYb7hKi8NbWcQwMdCEUb6212J4\n",
            "rjQWNDC8nf0iU32K2F/DXrlJeSMzCXeWhz8XoyqbBbdFC3VhyDiXybZEceYKdmYH\n",
            "xBbEpKeIeeLPsB/LOj5EJJEz+dJXB7w8jeFjqTCQa65PNU9AF3+P0yp6sqki8rBv\n",
            "6WX68UvUuSFOarPYxG1vpaEnMiTVdJ9J1e78eXz9hEHKTigFJ4CAMQ8qgp2RTesq\n",
            "p80tBjmDqAcL9yovtVC2iXVC9zJLbI0IX6OHa0uDIpjWJ2YMhty018gqm0ezeokC\n",
            "MwQQAQgAHRYhBAu+7vBk6Uq+hDJYtHVBz6r8NerPBQJZ4DXKAAoJEHVBz6r8NerP\n",
            "34gP/iLqLDAzMRGGFQ4UDf17eRF3WsYcnSttwv9Pn7xQ3fWrhrKhGGGTNfaKQT4w\n",
            "N3DTAojKlqHPdBkamsGbNWYlHsY3b/3Z/NRc+ZnRxVyFwHC9s7Amitk+FWohbFR3\n",
            "goqQazZGIootMGxZYaP7806ePdTCmCmTCriP9KMxvA8WlLISWUYl/JILkWgdaPCP\n",
            "ZHXWYAI8zNWegoM6eKcu3WFSDxFNBQr18djU9z2X92hjwVsgJgO4V16MLMbqCs1x\n",
            "zLQELxau5UxRPSdVgwhtfuNuZX1z7ME4qhoaHMESMPjoWWYAc8pJaQ7nbVDq37G8\n",
            "aYuXLZ0ZWJ/cyX06Hic7e7n6qtp5uZvdHpfOHKAY+TnDlY5o0YSY0eg7vljF+s5s\n",
            "4vfdulcs3slze8M8hdrZIuaMqxYr3QFZf0qPHmERRsf0nwziEfGYesogkd2k3tqJ\n",
            "CNK7yMzbozIlRXzR1gutBTTibbRhf+cFMv4a6m/mIRG34q3gxm9hTHxzQ/PF/6Vy\n",
            "2nktsTphZhMUczD4q8B2Fix5pwtYkJ317JvifJWOmR349LdhV75PCkLgf1ZxapZ0\n",
            "rPFRLCaS1F3dxATvIE4j/dp29I2Fi2SCdezoxezyo1tFNH+azIrn3ghpt7UHpYU5\n",
            "OfInicz2uhFefpr6WXBQh0v7pTrhe0+PmSbvNzHeA87I/9xKtClEaXJrIEVkZGVs\n",
            "YnVldHRlbCA8ZGlya0BlZGRlbGJ1ZXR0ZWwuY29tPohGBBARAgAGBQJTPrX6AAoJ\n",
            "EAmUkfeRsNO3nqEAniiIKQu/J1AsO0YUxmgkheGB8FZ6AJ94wbyyGR8zIeUbd9Yx\n",
            "nKH+33r2eYhGBBARAgAGBQJUB0XpAAoJEBUoZftifM+Vz6YAoNTFx0NutNCCWlwY\n",
            "kpryxQYZMaz6AJ4qoAqF2aR/rYAZDX9XbfS1MbWzbIhGBBARCAAGBQJTQCjCAAoJ\n",
            "ENsEChOj17m8Xw4AoJeCs29fZJRPmdYMfyo2QwH05CsGAJ9P/Z4uonpZmfYSHE6Y\n",
            "/Fz/TmABM4hGBBARCAAGBQJTXD48AAoJEHmwEmaTcB7v0xIAn0vQ6kUbO9I7yRL4\n",
            "HyocEx+Ys8oIAKCA/3IZAbR6O+7hopFaqTa7/ehehohGBBARCAAGBQJUmI0RAAoJ\n",
            "EDBW8O9MLT76PikAoJIH+B1cXiIQ3rB1IMiSlvrilLboAKCRMXvo4kMmhIz6TL+8\n",
            "ks9AHD8a74hGBBARCAAGBQJUsDZ/AAoJEEv9vaZgRfseotkAn0pXDU9vXb1JLY82\n",
            "oTdI6MMICzXAAJ0dO2AXGhmQK51zfNhRTRqCPXIDqIkCHAQQAQIABgUCVAvgZAAK\n",
            "CRCc0X1YB8BxOmoAD/0boRAyefgxAuNihPCeWoLcTAicGAySm0GNgdROAAX5OTvT\n",
            "Ii3ATW4enqPRrLK+FARI42xvWcM8ekjt10vmA8XkzgAGC3jluHICAjprvcBpONHR\n",
            "yz2Bc7/qAqFP0ErrxqVuSyoNRlAtd7iOSMnDeT6ulCAMQtVKjZ5xcEnbEYokac1I\n",
            "0O1JGWDM9eHJd77ehmGcLNOBzOztwcSZ3pyS9FvjaJRM6ngv3qZluR0BR+FxOgsY\n",
            "NbjXtv/9ER1xg8f8psAAI5BArmBbPzFaEy8sEvOD5YxFZ8dI093AgeTqvmIyqEYA\n",
            "hVx20sBOnLlOinwx5njXRNt8NpSfs3yPU2NTbxVeCY+CFFqF5VCikRYTi95GQVep\n",
            "/gbZFYIUDAKzqwIMTAQ2KoaIbtExIHnzBDGVgiu1ANcMjWouoUgZzOTwXQSFO0wk\n",
            "OvxnaIpf0pPfQ+yuR+oN3U5ma3JYFgrxF0RzqCiZxlT2jZCAcciNlU/uPwvKQ4He\n",
            "6IfLMV6YZWM2TioltwHXbKhxZRSyOLQpXK5tHRGjZUDMoGy4GITnKaUCEIf8xVR5\n",
            "V8nrt/T+CSFJSG41Uq87WQvnj9tlA7gcAwyzzGLiQ2hAAJuVEakP/C8APpheG6wo\n",
            "S/NN5tcNJkvoO3ObTriAMAuoTvcaemGnaSTZP8m4dvTYQM3D9dQTyC2J11Vu+IkC\n",
            "HAQQAQgABgUCU0ApNgAKCRDJ/EG4+Yxmz/seD/45LVeLYZV/Zv9flkDEZTUz5872\n",
            "1Z0CQROL204dbZx/hGdLpDgQolPRgfd0klO2vW48jsn1y/F3wXwgGsaSia0tGcZR\n",
            "UsiPSTdvO26ZcncUBiZ8MF/Wq4foao5rhEhFQg07O2bAcDJpGWe2MoRE4WhxWp4V\n",
            "a3BoGMNPs+tNPFyGlZqtFxtPENG/HVckKKECnjkK9y1uJDqtvCVWca6YJPrXRj3x\n",
            "tj+TqZB7rmnX4yMHjKVankou6dlR0/1/Jvk+/u7R1AoPw7qYMzEi37QjI03EAsOr\n",
            "lgKq1YIvY/Wr5L3A6Cdbm9GzIL/D34J8rD1il10qDG8oj5CIR/7IyDQigb8b8H88\n",
            "6Ow11g/pTd/3ip5A9A/7rhJfo27HrlsIynZvxLoChBXEJquAjUtCm5MEactaCFp9\n",
            "deeeWbvJK/mIcyYKvfRTGiNkpcQmjqGTOFxoPOXmLA5qYVvFKonr8yMzkPL1eP2r\n",
            "tfIV5yKeWP2P0L9RX3ljVmVMwI6JmvPj8j45x7dqjxr1TURxmCUU07boYUE8ZnoH\n",
            "mi2H4xjB5u2EX1arsCCLCkSvGeD7eoBQejhKpyy3+5gz4JO4nMKJOtHZf+LCAmvc\n",
            "FXgB84kp83D54dHb6ENdI4cGgEcYy4ffccxsnzQeP16OXrciVuoWVjl7whHodjxV\n",
            "BpAEvrFNFQN4u1tHPokCHAQQAQgABgUCU1w9XAAKCRBYqSLN212wjjhtEACDek79\n",
            "4Ek3D7YuLBHVqcuOawv46KGRRTte3RecMTX8qeSiIBOHR7BX+8P7qRlXgHXytxiV\n",
            "N5o86CIyHaekqd9xXz30FOG1c5q6MYsxXEWf/9rdhbkgvG16CQ0AN+PqpJ5b3dAG\n",
            "ItjmiDw89UdCz0a0Cl+ieXJgPUKPzrLFpXFfoBUp0oA86pKbjzfaNRW+kkYqeC1k\n",
            "tvhjtNK08jH+19WbCQl57S9RP0Mug7fsivxBNTMZDVA6/pNJawaSwX7+CQgBXsHB\n",
            "D1jbUY8UMFOEQrRzBrwlnnhV9pL9O2o0nObFFC7nwlkKpSujYO4nr05NB5W88rpY\n",
            "ENtOfvnyxn9AOr/QHOxIHzVqMZnMXMzRC088fxHF7rWJV8eYICWoOIPxNSConp04\n",
            "izswjO+5UGP8ZvHuZ7zEmx6R5RZcvwodyXRouRpahr9G9UaHT5srNSyt3d9bQwRM\n",
            "GXhQ4X8BFyHk34x1FWFh8qcE1oZEWZp4htYNCa0nLaEabxIZK1Yzcpq73i8Eq15D\n",
            "FaH7mGlc1UXsFhgrBwnQUcr5NG5q8NwgA5Y7DKKM1YEbquMB78jeYmHeo3pMpZNA\n",
            "OwiWWqD9JfVycoWS0M3Ak27w5nuBNNUbLf8sMkggVcEkyNuXWEYb3yBuBMz/oUWL\n",
            "58jJRDbrRxwJsLMEbQVDt+oJbSZf9os7FWJfJ4kCHAQQAQgABgUCVJSY8AAKCRAK\n",
            "UEL0l1EDHOsvD/4not6qVWOfeg2jzQw8qM9jQDjre60rs/JkuIztcMAG/TvLgKa1\n",
            "mL6Siidwzdt5wLDYfT56whkH1s2t8VGBx60zgQd7oqsyg+kf1I0u54Q5eHjFT30U\n",
            "BtDmN0sklitdsFASlhx979VVV5IOeT/d0PnqxnLj++dYomjeD3ie+SbydXzN/u8y\n",
            "TCzM0pCEXyO1QBZXwG7XDtmbmVCxMOhisCeGPL/dwGyF3m6LqNxDmacrXLfkZSNO\n",
            "EgsFBqJX/R8dNdICNHQAbicrm6/RTrypC+KmZtvoMT+pXhoKSg2tnTkOTeLpw9bE\n",
            "dSNi2yrz9PZ6R6YdBVI/2n0M9eqEzXqIy8/7en+rp82/NlCCod54ehDoZRyJrzIz\n",
            "4AhBp2DgbMmu9RYY44yZEx6w0FBLJY03ro39QJYtyE7AawYQwA9IHVakhTtr6CdA\n",
            "vqKHSLI24IazmpPySuPpaomqeGIX0Xw6FTKEUMv9ZV+8w1LPcURyUumsyUezw6JN\n",
            "8V/0CRVXUdfY5KpMTQLL3JeMVgYKxR3vA2ReJ8yMBe7Vfd/Fn2N2mB06eo8vCZJu\n",
            "/Mb5LGe36cYZJ9z1jzKydanyFqWhBRSCVV5sa9HmeVQEJTds5jW8uDg4YLDiBt5F\n",
            "M6Six7KBzJBQ5u4bu67NquHSud09jFXlY2yWT0PebqpuYwB1VlwA7sdB+4kCHAQQ\n",
            "AQgABgUCVLA18AAKCRC/oo+Ln8iuc9dXEADK3B03hrv1+MMscnKIl7iXLc4rsbO6\n",
            "R7Vc7ivyCG4R+DVRe/kfaKQfyAey9xqtTxYJ9ysBQ8egNfvgoLVd9a0y5v1q426S\n",
            "vvdRfCAFsNLZoeuWkMvl8FavlFz/aGpPNVHfnL8UmqVHax4WMaOHdiOO2k/HkMgf\n",
            "rHhj6thmQJLxpTRIwDGO8oigh9g1kgQNq01Olb8A9TY8HUVJXvvHg9E1NwRFzxd4\n",
            "zsinIR4Hjh7s4qxWCwdKKLKCDBp1mCu5gypR+t71LDAZh0rDP9DA2BhoUUHGyJcN\n",
            "cZGrw4+gjMmXd6Wf6LTuQ3GvXaV9ASbaJKPmYBF2xjwpmNabXd9YTRzCNOJCgRWh\n",
            "M4Yi+H4gQkh0DV3nFXNZ1E1sawXI29lyEu6vW20y4Lz4mkuMP5maAukK/hrpC9iP\n",
            "GkZrpsSwblS7U+/yB6YxR2neISboAenPeRUShHc3hVhU0kjYfio0omFZ8GlrxNQl\n",
            "Z3G0qGOM7JxTCFDxHxjMvP17sR05i09b61MOqzPk3ob8bxGiHz4xc0mnyY4UFgQ8\n",
            "jWecPsX4FfwtuTTAY9BJDAkLAkZPNinRzz6pUOfiWg6soxJke/RfQma3Xd80o1P9\n",
            "FdhHUd0HWbLUsYXEtg6ZS5seVzw8Gkg1ZAt2pqZCjKq26SA/bCamty19pZ+Fd/2Z\n",
            "P79REnHHP+iRQYkCMwQQAQgAHRYhBH1q23UPkQhViUhL5nfAx157ZQgIBQJYrZ5N\n",
            "AAoJEHfAx157ZQgIkxMP/iHT7ZAwXuF+l6Mej8NBxwEoZO0U/rjRDEswDKVr1KbZ\n",
            "loKmniz89wNVEfF5maOFOT7aJrJWURW1SD4Q7kJt5NAzih8E6iE8fSCMxKeOa9/r\n",
            "ZOfZauro4ew1p1d4Wv4l25FaEHQqmfWNJlyc9QFT3CIpBwDv4cfnGQzoivMmXE+l\n",
            "QJx8z6SaG7Wjib70GcvonPfCSaleOUI02dXbV33wM46lYGL9WsEgecITYvgqGwec\n",
            "aLIXQQPKIa9icN4bwZYLH5jh46+8FDfz5sXH4huKouyxXoAE8h9DJHB5zrXKRpI0\n",
            "dKr7zmVV1Ph+6XhbxzqZAltEDzdi6luj+nugq8tGhluYi9QqWJookWt30C9NZGW6\n",
            "d/IyEHqJaQG0RCHCBLkyUCWgRbmz019aPlgcdLqOwEFKKgQO8qlyzFMOU/GlgxTs\n",
            "rFSEMAJLBvdELIW/w25nLVY6FHTpnB/Smityc72PXATO3ZkAchgDi3hFwVB86rVe\n",
            "kCVxOEdolD3ujtl2ZC9Hi9/DSwrjdl+eokddwsD5QuFk2jhNYBG5c3a3x3diMINF\n",
            "E9f0hNgtMl1OlSvrFgvBRsfqQAnh3nMhK2yQgfhO0Y5tuwVTIrlCLzE6i7nlrUF8\n",
            "QiJc5iK7t1BaNn0tJ00ik5piiAnWuyjxkTJNh/wLoHZRohpzIceLKJ1i3kZFvTt7\n",
            "iQI4BBMBAgAiBQJTPrL9AhsDBgsJCAcDAgYVCAIJCgsEFgIDAQIeAQIXgAAKCRCh\n",
            "SJ/iq5miGjoWD/9R4isVKrZ6k7XIAgRNUJofiZdg2x1NwaJ5xCcdvbh45IqZAnQg\n",
            "s+v4y4wZ04yEAaOQwUQoKw8Y91c8zAOD5aA1qB+mjv6CMrh8IzdGeuKRporMKY+s\n",
            "XBMnTDCNi/Kmlv+ux/bu7qavmXZCPswziPhJT7vuJY27ymnAXL6ZVAD1hUvaGU8x\n",
            "Zx2Y0bfd4IvNGkHxBGe26/ngns5KyRBXBeQmdxZqBvsu6fxafOQzl4p1ni9xMXg/\n",
            "p5MUJqylmFvzXaekrB7Dnr2fTGQh8xIYfaorDzP1GYWBp7pw70NWFKpt+TGaUg/3\n",
            "9rd5Z//pKFnx/VuaGDe5gaJyP7citptv73JHsocIZGipat/ouLp1trdORYHWn+/L\n",
            "ZTGl/g5IqafNAkUuL7XxrievmhyOfpi+UE6NBdIoJ6zATKwEd0x3hKBQjZJ0r9nL\n",
            "YL3tqKymTZa2Ohe1dIxoan5E77SnDKWWAlz0NjzpvOrCWB1uSBQfAp9ZY5HPAUhx\n",
            "48IvbfYYlR6KWckqhqg6C9lBXS3DaKhvIal1y5SQLEdJGK57/sXPMmdulIlNnpP1\n",
            "5EP/Yea3OQ+J/469MEpTD8oMyrVCMQ3tlimxWCyeFMyDVeDt6TjBOIeZ7Aobtkqg\n",
            "rDUbmL4z1WJxGbjsD2Gv0chBohvSoe+MnWnN+8biR3tyT3VosYNXVkjULYkCMwQQ\n",
            "AQgAHRYhBAu+7vBk6Uq+hDJYtHVBz6r8NerPBQJZ4DXKAAoJEHVBz6r8NerPtfsQ\n",
            "AJRE5F2wop4UM9JQIEJu77tiVePm8k59n8N1p0FKplmqraZDy4Rb4IKLsLxkQEVt\n",
            "58SgjmUkFnBjwpVDXiKw3ofgwAqaRWeotXVhrfOl746UbAeJ27hALxQqvidcM5bP\n",
            "UAit3BVi1PkpWOGSK+3r2yIRFzb5Os/ac0LQW+RHB3YCHR7z4qDsr8zeRPEoXKbM\n",
            "9xykKCXpQjq5RFq6sVYSufIqeWEW99h3VzTmLZwUPs1Mx+52+upernVJxWDHOwRj\n",
            "zKFA+Rg4zJvdxIFrbedzn2HZiQv0HmNmKtnk6T2lmHjJOuiaMGq9VF26QVNu1a4v\n",
            "q82ocUTx97vuio+Yhfv5t+hU1VQmWLO9S3j/TZD9GguxS12W/eceSVV8xPUgRXpA\n",
            "E4QGCm2NhWPl/qsYFUZAY0HRU2r8IVxZAcDmrjug5IyWY5ZJYugY2MayErrfv56X\n",
            "yBPxb0LWU2YFGOSE2HfXzkU0yxsXq7M5O2muxNwsoDOH+w/3R2BdduFkCoKB/88L\n",
            "VApmwFmpYEFc7JIfUXLBzDTdER8laiLaqL7FLRbjvoW8WU+y9F7c3m868hMCc/x4\n",
            "Gj4vIWJU1hHK6IdmNEPVqGXjgGJfpI5TZJ5mefRUO3DOEC7fBU9gENVEGX4VykPb\n",
            "vF5fFCc2uqEubPO1OZuQLbYd+JX2vA/Yf4NXArtyHNcntDNEaXJrIEVkZGVsYnVl\n",
            "dHRlbCA8ZGlyay5lZGRlbGJ1ZXR0ZWxAUi1Qcm9qZWN0Lm9yZz6IRgQQEQIABgUC\n",
            "Uz61+gAKCRAJlJH3kbDTt7+2AJ9OEkhet/biKHOezN5M313KVEn46gCgkXKJCmSL\n",
            "VXmEhT72GGnzKAI77G6IRgQQEQIABgUCVAdF6QAKCRAVKGX7YnzPld+RAJ0YK/Aa\n",
            "nyx9oA/p9T1/vFWJO6t8IQCfa/bODo20GJMcU9zmbkhg7+k/JpiIRgQQEQgABgUC\n",
            "U0AowgAKCRDbBAoTo9e5vFPgAJkBBjr3n22bSRVQn0GbabCN6DIAagCeJfrmELMA\n",
            "kh+1QgcSJ/A28qgnuFaIRgQQEQgABgUCU1w+PAAKCRB5sBJmk3Ae74u7AJ9u+ydE\n",
            "L4iYQKsHILpzdAzayh2u8gCeO/CxVx7HGOD+PboLoUwuasnZif2IRgQQEQgABgUC\n",
            "VJiNEQAKCRAwVvDvTC0++gvMAJ90k6EAoVqxCeskmFL7AQswEGMNuQCgu4VrwlIr\n",
            "jDVAKaaULjngfr/K8zmIRgQQEQgABgUCVLA2fwAKCRBL/b2mYEX7Hg8HAKCARWiy\n",
            "7Q7c2aA8D3BqBkbfHOuUTACgiM+6LeFn7EZdpVifZgimmpGwwTSJAhsEEAEIAAYF\n",
            "AlNcPVwACgkQWKkizdtdsI4ucQ/4peEf2FkMJ9xSrenLTOSiVs5Xy2+72KdPzP3y\n",
            "WMBmeWDtlAc+iQxsShFGd+jna7jT5Lmg1asj4aMiyrjWxVqQkjukZRfB6wLYNy9/\n",
            "vheVaS5VH1ydokVsXQgxK8YWc4dVuq2/0HdqWfDFHjSB+xOVDZDMksbRa2JNfSmU\n",
            "G0U620JZcaAp5k/zI79kTgNcGzFSkWLwlcaO56pUplu/biM8hWuho0lEcSaPIr4P\n",
            "tNGowESlyuQtFCQnew9Pb2Lm2nb8otPrC6BxQTBLhtqtsu1DFmBFuz8Sqcde/u7f\n",
            "cbF3q4w+GOWEuGU37PUYPW0HcSDMNZbKVia7Re8O6zPYkpe61IXQnUJOWaMAgsGh\n",
            "hqVY9KXehXMnQ+iOhw25ajnnU+szElTSzwB7aGuwxxioKqoRu4HyDx3b/ANtBYt7\n",
            "kH8VzsE2u3Hhpo6iat1CWo8q8PgzLhKCiw0CZ/CkeJQQ9yaC5v73nooOm9sut20Q\n",
            "zPO/fFJmfsI/fW4k6ZNZOzfRhJwtDykBPQHFoBwWb53oVwFMGekgQs3mJHtfT77f\n",
            "rRANvJHskgYBgUV3ClCcyh05LMXlzAb21l77gM/pXjTxqrIkAkBVo/9xUzK3Z1Ek\n",
            "uytK1lEW2RScpCo+J/Ie9wYDXSso3Duj5byqYJmMNoHSe8RL8auukU4JTIZMy7AG\n",
            "H7O4e4kCHAQQAQIABgUCVAvgZAAKCRCc0X1YB8BxOlglD/9gaSbmDW/rIVl0WJcm\n",
            "cKyia8GZBm6xCWCxtoMbS20FBjdt9IGJAqPDUbtarKYznpnt5llUxfA+TciGVmBC\n",
            "s8T32Ad5jLawLIWKhpbudGR3cN67DrknJa+xiPML82Yf0K0UaVzfzT5cfhoFMGUV\n",
            "H2V/fNJUbzck8yBqflhpcuTEc4a0XpylKtiwCQuqif2wWtvAnPA/M/9PrNZN4XJT\n",
            "aDBQbEALwLAeK6grMb6v+cDLSKPh+LB5MD/F7HggWFU9XQnTRbXsUCs1+K2EAVcL\n",
            "uasv8vG/f7QeT4fdgYE0bwTDFa9BFufS12y/KRxX6RVSXvGOF2kCCyUTqZzBM1s6\n",
            "C09sXrKX4pauQdARpfhESHg5a4V87kMd9h3g1f6CSCv/IR3gCTkCerEQ3kevwgwo\n",
            "q7b7wrfOlc35Y752bd8JVM3/tODLfRWDbpmuPC8N19MnSWAFkP/NDBMi0psTUXTH\n",
            "C+eMgWaYEzuCs0d7xC22mKp0SR8/6sBeraK6UGc5YHqPRoYCFli1eaRM7mvCZLth\n",
            "gfLhTeRTMTaOzeEhgnjBvLRJrKi51GFZs+bVwXqPRKMA7eYLV7sUafHi6VfWAioM\n",
            "kw4vpxgtHoOvXT9BJZr9HzYXY+zVTUw3nKQ/5empcb6DeQdwJEfdsn/Hm36wDmJZ\n",
            "s8h9CLXzfSWX9TWJgoOMAcDrc4kCHAQQAQgABgUCU0ApNgAKCRDJ/EG4+Yxmz9eC\n",
            "EACwH5Dh9rcYNV7sGlzrm4QHyHwXvdsLhSGmIi+cbgMulph+MXZwCQnX2GFYNhxe\n",
            "v3mjQlGIF0NaC+94HSBgrrzlReI/uNhL93gO28UbR+FF0ItysPHO1hhIZaAGuWdR\n",
            "JracQntZOXjHSX/+l9VQLtOlUg+skqbk4RIK1FnGemkZYM7Yjq4xkvihcNR0zKYk\n",
            "chREKvEUWujJ+/4yH5y0q6qyDsUlsEWo8vJIU+Rxxm2XRYBniZFC7kFCNIp/euh6\n",
            "fBCCMaM1gMA/TkF7F7iLLN25p2CBLGT7kwRszFitzHrTZjO2Wl9R5OFh+/O2bQ3z\n",
            "MH13Ef/tp5iihy+gWiuIhnvZTeY+xU3S4PqGCvi+e+aLw3cZ1IJCZg1MQK2oL7er\n",
            "kRmDXkt6EP2z+VZzmbU/2TTc/5CgPeqtgzBkKFtvNCTyV15sv7R3/RXw58ylq3Ai\n",
            "Kk1cSfEAWMSy2+OPa+TbiEfklunW8WxUsjuChv5n7FE2JTSHwSKGArS8jYbUYJ/+\n",
            "lnzr8Ko/2DCyYbkhuid4u0DBEL7VeSNuskirqpJqQV7/MBxLL2pbVH6wVyBYpRMY\n",
            "gBNFMUDJ8oE17ESTqmmc0rP5EJCQwBOUUrsDXI/8wNJdFpngXei4V9q6j2BXhZnA\n",
            "TGageKB0+lchm1iQiU+aVIQGkqJWQqT96j4L9PiUCDqXkokCHAQQAQgABgUCVJSY\n",
            "8AAKCRAKUEL0l1EDHEgJD/4rPO6/4d99lUxVesi/5qSozB/7UCeFyPIQXDU8QqOC\n",
            "JAQ1qutPWbVdXpIPq6Tk8rHVxYF7T4Lds3CAs0DjLdlB43QEpGYup+hRwBQdsIYx\n",
            "FL0KqPZ2qmcsus/ZMbvqffiuRj5wPCQ1Rgf3eIRkrXVWohuRk1XVLlXSRYLzWx1F\n",
            "mgBLBaRKxMxRaU87Z8ngA8ESwnD+kKCAM8mN2vdIOUYGzDTjzZeBi4BQWJBJa+RK\n",
            "9geAlv0DWd9mASKiegvL9Rh333DuVkEm62m1oeTiSgqDgnhBiGPjMXvxVNeBYUys\n",
            "j/u/4EA0K+zvg7QNjiYFENaWyPUR3p02JDbv4GVj8gh4Mt+11yYaycsV7XgqQvJO\n",
            "CxoHjjAQR07lWUi5L2YicsafnUJf5om5aRrg51G3bpa4Y6zbnrDl/EfVapV1Athf\n",
            "0JnnLbTo7rD5wRG+8RSmWfTtVOdl+6C+6B33XfRVpqh+5ui59gUUM1scesgxez0U\n",
            "mBRDWde5xohRvU8YwGZJl4VPyCM6BY8eFIwno0PcRVs+8p1HK6bQB6FPjYJNJYLP\n",
            "fGfsx/OSpoa56Bh53nsq+1HEESIdwvfKVO/7rFQzxM2ijbHCOkhK0FPNgyrh0JCH\n",
            "56j/97My3oeafw/HtT0jmIaQkP7VEnlhHC0DhIdmNyz1gzATglWZlNeWlqX3ctdJ\n",
            "YYkCHAQQAQgABgUCVLA18AAKCRC/oo+Ln8iuc+MPD/9BMqf7LWf9sCabDhOSXfql\n",
            "EFzXWwWrrPCXkUL/KK1kHf9BVbDY0lr47rDRXP3q/uIV/WDOXZ2sbZdS4VRKyshN\n",
            "Rzz/XK9W6/wbfyidemD3bJdd3wqH80XRz2qc5yThTme3fLuBg/bjdrlht4Oh7Lsh\n",
            "R0oXOh9a1CijWtdflL/IRMOzQJnqHhqRjLUduM1NrhSbrEecH9MOSJlFoRVeyI7+\n",
            "yIikOCyOlEuLLq1CeZiydhQpoetGKOnwzpfUmm/B/jnxczoe7dS1PqVxPVZAz6Jy\n",
            "Kcu8xqaJtuzrES4eAS7vz2bMAqnkhx3yOa7BNQ8ZF0KRdQmanpefNR7LVfGYgZxl\n",
            "DspO/D2tGZIXuAHauztviRkW1ZqE8opxvUjVEkyj/yOAzApuH/lU/+nLQO2MScvL\n",
            "HXd5C2TmHAFXjXzLfCoZPLGZC9VUJh04rLbaHZn3lPw5xm1HRCYBf7+5V+ojp9JU\n",
            "BrcnUbRAvC0lN5Fi3KGIqnIBwRk9lEzaD/izmxmcUa516ZPXPkiBxDE/3nWs6lI2\n",
            "UgINl9WPWVQGjxptDu7uu4mApiLG2MIAijYP2N9wUrZJ8g5hWKiO+2ovoMBLtPB8\n",
            "T/tUGGTRACZ80HJo2Z0Zc8yqDR+VkINq92XAUb9mVV0j94qNNOjMiEEhyBgzQ3c0\n",
            "Dfcl4bHQzb8nO6+Xy9zo4YkCMwQQAQgAHRYhBH1q23UPkQhViUhL5nfAx157ZQgI\n",
            "BQJYrZ5OAAoJEHfAx157ZQgIytoP/1aDfUhxWNDxMSAw/Vaxlo6okJ5FmXCbTCyH\n",
            "IJicy24HMpMdJhshSl2lYLe45W0oHdeTet3ZkBVC9sHqr8ESzQBySwG43USH+m+y\n",
            "m1gDp6c2D8zrSvpKihaFez//oJ/7rIXitlEv0S9jO1w29OfsKL8ONc4np3VrXR1k\n",
            "9JsyZoPy2vrRkseS9ZIWXidk5AVBM3yoDaTCyvSPlQ+n5FOAjIXJLJkfHuWsrkej\n",
            "PJr97Rs+7sTZnZWT+3V8hmYpQfepqkFLiMhKLVuBkqRS4ncdvBns3hI1dd+nbS4p\n",
            "XEOaBSW+TDw/JE9COfbnbPjNAqYHZ5FGTr1PwEAmIHYvE02KdyhsElKjmjJohdzL\n",
            "9OYr9v17yuyo3c6Seyk6JCvap5tHqRvjcjwJo5ZHYew37MBZ+pnDpqHlv/D0p6zV\n",
            "S7Mp4HcfjiguDO4SDUNKwtEvcrLC3UWwfF/eUeAa4QKQhiTKXDsYdkYRZ8CW840D\n",
            "VJfxtutsmI98dlmz2nBTgyNxpueWIGLZAg6X+g83boGHJRBdDPfN90ggaIUG/eYS\n",
            "zyhlvpTCw2HkEv6yx5EiSpnUy64nznVdbhzwxYPCaoCZhSicMx8LT7vp/y3UX97o\n",
            "gpv7xXjFrz8Y+ueGfYbHOnm+bOomhHVGfnSzezFg8YcyLeEA68UIO3d7KUmfH7sD\n",
            "dcflJjfTiQI4BBMBAgAiBQJTPrMcAhsDBgsJCAcDAgYVCAIJCgsEFgIDAQIeAQIX\n",
            "gAAKCRChSJ/iq5miGnlTEACtqRHgpTGN36HB0sNzG21jpLSpVdnRNYtsxyTFuNRz\n",
            "Yoi0sjRQVUcvgqNb129f4HvLQIC1ysVitLQRSd2aIyLa0xTFqG7PTbbdVIaJIGiG\n",
            "8MWA0wHdcW5YTf6DFMr3dCHGKKkIdJGi0M4z1Ge3TuMFiMm0J5y9yQ500xJvXBF4\n",
            "7F1q7WYYi1tEus6IatU/77qLKhXBs+9iPWs2ix4Hxr0T8YM82ujMhvdwXHk/X+g4\n",
            "JVsG/b9g5tvYP6vNZWA3OOaGJZoT0ZIP2/Aa+XZqlyCZmS2wm5Hu52rNtqJ1KUeI\n",
            "a2oOFnIke09pM337Cis3XK45ZyRSrbxFPxNHPIJugvDu9bMQ1wwaDpYN2ceFFOzy\n",
            "5sWXGVsHqf2p0nGhTkRTpzLP4IMzNf2pB4Vx8fbS+w0Bj3o7EJSm09daGdrFs66/\n",
            "x/VLYudOryv/rjLVXzYsCCe3GoHKmEr29ZZKQcmOv4JAbw0BmtkAAN1+mrL9X2Zr\n",
            "U3d7JHtjsqwCKTuluRMmmShgoNtWh4SCIitwwb3J5FLva93oodup6MHqqzQ8lkl5\n",
            "PIAGhbZhYLW+SaK5/IdQzAl4FDCCGK4/4369YvpK6RfhUAdWG/HsJVQXdTKuJfCl\n",
            "GXmDeuUwXZDFEXeeSjCvd5RZ4UA3I/Yk6TktEhZT2Zh3FrLQZFhLfwaETvE3x6rg\n",
            "rYkCMwQQAQgAHRYhBAu+7vBk6Uq+hDJYtHVBz6r8NerPBQJZ4DXKAAoJEHVBz6r8\n",
            "NerPP0YQALqf1obDiraLNVdYjiMDhuYDNbfodTZngMkkVZjQexHvYRxxVjaw7KBq\n",
            "vAsZxxyJ5af1oMFHLEdLi7538XtLpcyw/l2NFfUGN1Da2bJ+xnCL8xK6A1ROYgnH\n",
            "wgH851r/ahQjO7vvuVrKME1on2wSWFFheYa8wE0iNKzYNqn1oHTKccNLnUPoDtjC\n",
            "fs+vg/OjGjJ3vUAoSjn5GGp8WS1m7iigvVKOvf5iEOQyMhDcg2c4b40K1LmtRLNs\n",
            "nW6kL+sYQ7lLGE4GcD4rcTHSggu94s8I600UsXo1OefY7plm+rsujkgcfOfhWy5v\n",
            "kEdJHil0eG2uL9dXxqyOF0vdwvv13pSXnVL66QJ154n2RfxUwUQbhpk7voCiaIM2\n",
            "jHAD+7C5bueMgB7K9Xze9haetrp4pFwrDKjMnmSiwSUZH/8ohZRg4FP6BB4RbxfL\n",
            "nGylQxjXEfCdf+6UYwZccRQ0OtW8SvylTRGHHEZGR3Eb3jKK574Y5CZTwX+O8UO+\n",
            "+Y2M2IED7SEfYB8esDKaSBeA45BpeeAzLp1/cewbNJrGfhLihcW08ssmdfNKj6Hg\n",
            "iQp63e6dEXwMeRqiP8n1dQvRkVuMnhpjry2F9yQwzwyGgpLwiBtNY320M2h+dALA\n",
            "JsgKXSQhGLnKGwZbyw3Xn6r+0IdNXbfBJ9mxzAvVFRhvSwSJZbWluQINBFM+sY8B\n",
            "EADhjxWFMGpto55PFbNFDxfFHzSnZHvdvDFziMPhchNZB2UQvGvMC3p/v2MMu+Jt\n",
            "eou1a41mqbQw9piEGuWPLX4v3HfQGrGwQLMXut7ldKudujbr3AKAS2z/NTosVOoX\n",
            "3pSzbAYukrWuetdg/4drvn3aNxP7L2zu+b+OYQoGw/cQXAxmdmpbB94NoctZt/5A\n",
            "T07Y3DEv/6R3k3ZP9vB78ylHkfza8LWNeBqE/fhUDSTXM2Yr1RimcYudTT/9g1Za\n",
            "+/yg6Zaxgs7nWqQA9tjkoJ8CoE2JMhCBbHwugjjz8BeHXNK7I9EAQnQe1PCWgclt\n",
            "ii3nArjmVwcHkwN3n5L3JLDsL8zUVNOFkzPDp8ovMN6HHqNtVTe0XTVcKeio9fGw\n",
            "CggfZBAXEOUu8CNdPf6JrrUihyyLyGJ5a+T5jQ8KjSn/sgF95eurG9dZKnbWDlfy\n",
            "ewZl2q/KqmFFogdtlm6m49OpfHgG92rGZtm0exbn2TeafLCZCGPTvqPJpBKqfL6g\n",
            "SWbD8WmgjFbMAQ8Kn7vuGqI1IkATXGsnnCSSBg6UxRZAJYeiNjDfGrgOSBSoih18\n",
            "babkaZPAw8gZqZEAX1blnxO86FYrd67g73DegVLecrTx7Y5atwS5osbVWZr7iatS\n",
            "W/IxZL8tRWmk6/tYQw1o7qcZ6mTlgWjaRqHCx0Q3gJHaZQARAQABiQIfBBgBAgAJ\n",
            "BQJTPrGPAhsMAAoJEKFIn+KrmaIaNCMP/jqIu/HFbLeFJ6sh9dC+DTxFgZV0pr7R\n",
            "yFtERfBYwyhGJggV3rklWXnmPCvggCh7FBXPzQaLYj+Ebkg44RlNyTTqwiG6QyG+\n",
            "94BbtoOgcP54ZIeKGmoqyMs7hpKv3jF4i8YkhFBkmd9x2iGBHWyJ/hibZ11l+us5\n",
            "86D7ue9UKKvpSyqwvA+lVQ3wz3tgj/A/baIKDkHfTjyGpTDP9R7qKMiXDEEL5idE\n",
            "PceoUr3vdw2ziF9RkJ5Tqp4bISMmOHUiSWDmhoKBqmmm1/jyfWsPq33wdhliCKm8\n",
            "QsAXHAbYQ8ZSBbnpEkg42C2JBJ/MVm/HcgOaYhyba5KE69Us8zqw91CngodwDQXa\n",
            "nrZXOaA4/H4sUnyg0ucP3YvhL0y1NjH1rfrZ2318wyS40yKkHVkU2sWB6HeNfkJu\n",
            "Nflx37ptkvguTHVF5B+jD9LS5djUGANCYtvRK0jRwCPdqVUgBIb2obr0kmGovXnE\n",
            "Pmn9UZoqDqSm5FY80Rj6ElPSQso0rB9oI2QkNrZaCSezvu6SW2Tzm2b/ceuGz/+r\n",
            "ARLZNqmAFO8oUDjrCw45Dy4ne53e+Vqduvx1Q76LuoUnE2YGqOVGFzT0QLas+oMJ\n",
            "VJl6GRFKtZoRFEhMxDFf2mUSgis4mSjwMZI4pl0YmzDDM8IN/i+P2dFrRr1AkA89\n",
            "I5rGSOk715L9\n",
            "=VuA5\n",
            "-----END PGP PUBLIC KEY BLOCK-----\n",
            "Hit:1 https://cloud.r-project.org/bin/linux/ubuntu jammy-cran40/ InRelease\n",
            "Hit:2 https://developer.download.nvidia.com/compute/cuda/repos/ubuntu2204/x86_64  InRelease\n",
            "Ign:3 https://r2u.stat.illinois.edu/ubuntu jammy InRelease\n",
            "Get:4 https://r2u.stat.illinois.edu/ubuntu jammy Release [5,713 B]\n",
            "Get:5 https://r2u.stat.illinois.edu/ubuntu jammy Release.gpg [793 B]\n",
            "Hit:6 https://ppa.launchpadcontent.net/c2d4u.team/c2d4u4.0+/ubuntu jammy InRelease\n",
            "Get:7 https://r2u.stat.illinois.edu/ubuntu jammy/main all Packages [7,477 kB]\n",
            "Get:8 https://r2u.stat.illinois.edu/ubuntu jammy/main amd64 Packages [2,358 kB]\n",
            "Hit:9 https://ppa.launchpadcontent.net/deadsnakes/ppa/ubuntu jammy InRelease\n",
            "Hit:10 https://ppa.launchpadcontent.net/graphics-drivers/ppa/ubuntu jammy InRelease\n",
            "Hit:11 http://archive.ubuntu.com/ubuntu jammy InRelease\n",
            "Hit:12 http://archive.ubuntu.com/ubuntu jammy-updates InRelease\n",
            "Hit:13 http://archive.ubuntu.com/ubuntu jammy-backports InRelease\n",
            "Hit:14 https://ppa.launchpadcontent.net/ubuntugis/ppa/ubuntu jammy InRelease\n",
            "Hit:15 http://security.ubuntu.com/ubuntu jammy-security InRelease\n",
            "Fetched 9,841 kB in 3s (2,891 kB/s)\n",
            "Reading package lists...\n",
            "Building dependency tree...\n",
            "Reading state information...\n",
            "146 packages can be upgraded. Run 'apt list --upgradable' to see them.\n",
            "-----BEGIN PGP PUBLIC KEY BLOCK-----\n",
            "\n",
            "mQENBEy9tcUBCACnWQfqdrcz7tQL/iCeWDYSYPwXpPMUMLE721HfFH7d8ErunPKP\n",
            "Iwq1v4CrNmMjcainofbu/BfuZESSK1hBAItOk/5VTkzCJlzkrHY9g5v+XlBMPDQC\n",
            "9u4AE/myw3p52+0NXsnBz+a35mxJKMl+9v9ztvueA6EmLr2xaLf/nx4XwXUMSi1L\n",
            "p8i8XpAOz/Xg1fspPMRhuDAGYDnOh4uH1jADGoqYaPMty0yVEmzx74qvdIOvfgj1\n",
            "6A/9LYXk67td6/JQ5LFCZmFsbahAsqi9inNgBZmnfXO4m4lhzeqNjJAgaw7Fz2zq\n",
            "UmvpEheKKClgTQMWWNI9Rx1L8IKnJkuKnpzHABEBAAG0I01pY2hhZWwgUnV0dGVy\n",
            "IDxtYXJ1dHRlckBnbWFpbC5jb20+iQFVBBMBCgA/AhsjBgsJCAcDAgYVCAIJCgsE\n",
            "FgIDAQIeAQIXgBYhBOKYo6glwNZd/VfLtlFxZhnghNq5BQJfdcXRBQkf4HiMAAoJ\n",
            "EFFxZhnghNq5Nj8IAIqCTIJ/tMjZqiuwe7M4DQjpvGn4/QylkYLxn9dOds2nGz82\n",
            "FAukEAR3tmi22TETrqm+UOukFYUnAEOez7BJiWPwCDt9WuD4/Be8rzbjL0wEv/xu\n",
            "D1JHWxVd2DfbJG1PAsuv7ouFYbIdh24a8gYpasd6twdbPOdZa0mbzVOnwAmHiH1l\n",
            "gv2oY/McOO7unc/YGuD2lTb5ohK8yYdHsL5WYK7REPGqEGBS+ppUPWjI1qQb/g2X\n",
            "oSVfbLLiXiwdvBS4hzjiwGNe76B2jDuHsfmQFMdVpOzNKN0dk10Nm8MFFPrirUIl\n",
            "Uwk45UttOrcrs5hluLYZhMYHPJ/UNYnaJeJH58iJAT4EEwECACgFAky9tcUCGyMF\n",
            "CQlmAYAGCwkIBwMCBhUIAgkKCwQWAgMBAh4BAheAAAoJEFFxZhnghNq5PL0H/iGY\n",
            "9DsJKrDk5Lm3xTnLfwGWod+WoV6/eWVfrywO3Nh/FC5BVLd/E4GgaYVD8tJ9dBiE\n",
            "MboFlricO4NkSBvzUy+PQMkOXiWbIx0Ggi9eG90Q8N3+us4b7W3b5Ljb1b00g5sp\n",
            "pkKz1pu/Z+ciGu3IBbFz+I1HmsmY1ejO8lUYCAB42EFKu9moVo8n/8GSVsmF9WA3\n",
            "C3gaC0WXW9pTssxoys5YD0fJ3x1YAa4iFthc44WPVZn86FSVheewh7xfNonXLovJ\n",
            "WQIuFon4xW0bBNesVdGEEtCWEJgF87bmL88ZRZK9GEjyf+v5Ew067LUeUVt7FFiu\n",
            "09c4tuI7wCUW4ixf2dG5AQ0ETL21xQEIANhwKBAIIXVZRKftz9Vc2+CZfO+/eVVf\n",
            "1aRXhB2lwleK1eCVd1NnBXEa/cDEO5osTDFbutuopE/NY2OPjFMfG3Zi1SMT6YtX\n",
            "nwAVpBBTdqV1gbwk+vZ6iEw1mqnYEbah1zPDl5o7mXkROMLWcdSMNSby6zdNXcBc\n",
            "5qMCOC4a+kbcMqfH+Ca52swFVIAQTriR5/IGZJHrzfOReHD42BtMgP1dbU5KoT58\n",
            "tB/RnNASiMx19gh5XxDmwwCZTcn0B2WnIOtlphGaKmGDDw9lMxqGHP+joHPunpWo\n",
            "Dg1yavbbmee0iyNRTPSIrpOxo6L0qsXbdHD4gNQl5iR1VvAapq+AkbUAEQEAAYkB\n",
            "PAQYAQoAJgIbDBYhBOKYo6glwNZd/VfLtlFxZhnghNq5BQJfdcYKBQkf4HjFAAoJ\n",
            "EFFxZhnghNq5J2MH/13zMlB45Qire0mklv3z/Q0HVHTgV8QTRWNdb2GTOQAWQjJZ\n",
            "rupkz/MlwmFejoSJo1uM/Dhb19PNnLyVQ7onHBd7+aeKJ+Tbzlw2dHkgjO3bkRVF\n",
            "VBg0U2xg5a7NXlqSoaAzWi+py6bQR+Qj1AIbZNL9s24LSUfazPc2hO7TsNQoOUCG\n",
            "BQ8zvot2oRXOe/4lOmjaYFTb13KXr5ozrKzkm66p07QM5lXmrdsgterKUDdf00+z\n",
            "EXG+vo+j5qnz77TghahivkZip3FwW5APP+/8fWrQRSMzBToFWGZuLri4uef+P/7D\n",
            "2jiqon7LxHKcTkL+MajTgwrtuH5bI7hL2445uew=\n",
            "=xbQ3\n",
            "-----END PGP PUBLIC KEY BLOCK-----\n",
            "Executing: /tmp/apt-key-gpghome.YF9ji70zxp/gpg.1.sh --keyserver keyserver.ubuntu.com --recv-keys 67C2D66C4B1D4339 51716619E084DAB9\n",
            "146 packages can be upgraded. Run 'apt list --upgradable' to see them.\n",
            "Reading package lists...\n",
            "Building dependency tree...\n",
            "Reading state information...\n",
            "r-base-core is already the newest version (4.3.1-4.2204.0).\n",
            "0 upgraded, 0 newly installed, 0 to remove and 146 not upgraded.\n",
            "Reading package lists...\n",
            "Building dependency tree...\n",
            "Reading state information...\n",
            "make is already the newest version (4.3-4.1build1).\n",
            "make set to manually installed.\n",
            "python3-dbus is already the newest version (1.2.18-3build1).\n",
            "python3-dbus set to manually installed.\n",
            "python3-apt is already the newest version (2.4.0ubuntu2).\n",
            "python3-apt set to manually installed.\n",
            "python3-gi is already the newest version (3.42.1-0ubuntu1).\n",
            "python3-gi set to manually installed.\n",
            "0 upgraded, 0 newly installed, 0 to remove and 146 not upgraded.\n",
            "* installing /usr/share/dbus-1/system-services/org.r_project.linux1.service\n",
            "* installing /etc/dbus-1/system.d/org.r_project.linux1.conf"
          ]
        },
        {
          "output_type": "stream",
          "name": "stderr",
          "text": [
            "Tracing function \"install.packages\" in package \"utils\"\n",
            "\n",
            "There are missing packages: httpuv, R.utils\n",
            "\n",
            "\n",
            "Attaching package: ‘R.oo’\n",
            "\n",
            "\n",
            "The following object is masked from ‘package:R.methodsS3’:\n",
            "\n",
            "    throw\n",
            "\n",
            "\n",
            "The following objects are masked from ‘package:methods’:\n",
            "\n",
            "    getClasses, getMethods\n",
            "\n",
            "\n",
            "The following objects are masked from ‘package:base’:\n",
            "\n",
            "    attach, detach, load, save\n",
            "\n",
            "\n",
            "\n",
            "Attaching package: ‘R.utils’\n",
            "\n",
            "\n",
            "The following object is masked from ‘package:utils’:\n",
            "\n",
            "    timestamp\n",
            "\n",
            "\n",
            "The following objects are masked from ‘package:base’:\n",
            "\n",
            "    cat, commandArgs, getOption, isOpen, nullfile, parse, warnings\n",
            "\n",
            "\n"
          ]
        }
      ],
      "source": [
        "## Instalação r2u\n",
        "\n",
        "shell_call <- function(command, ...) {\n",
        "  result <- system(command, intern = TRUE, ...)\n",
        "  cat(paste0(result, collapse = \"\\n\"))\n",
        "}\n",
        "\n",
        "download.file(\"https://github.com/eddelbuettel/r2u/raw/master/inst/scripts/add_cranapt_jammy.sh\",\n",
        "              \"add_cranapt_jammy.sh\")\n",
        "Sys.chmod(\"add_cranapt_jammy.sh\", \"0755\")\n",
        "shell_call(\"./add_cranapt_jammy.sh\")\n",
        "bspm::enable()\n",
        "options(bspm.version.check=FALSE)\n",
        "shell_call(\"rm add_cranapt_jammy.sh\")\n",
        "\n",
        "## Preparando acesso ao Google Drive\n",
        "loadPackages = function(pkgs){\n",
        "  myrequire = function(...){\n",
        "    suppressWarnings(suppressMessages(suppressPackageStartupMessages(require(...))))\n",
        "  }\n",
        "  ok = sapply(pkgs, require, character.only=TRUE, quietly=TRUE)\n",
        "  if (!all(ok)){\n",
        "    message(\"There are missing packages: \", paste(pkgs[!ok], collapse=\", \"))\n",
        "    install.packages(pkgs[!ok])\n",
        "    loadPackages(pkgs[!ok])\n",
        "  }\n",
        "}\n",
        "\n",
        "loadPackages(c(\"googledrive\", \"httpuv\", \"R.utils\", \"httr\"))\n",
        "\n",
        "my_check = function() TRUE\n",
        "reassignInPackage(\"is_interactive\", pkgName=\"httr\", my_check)\n",
        "options(rlang_interactive=TRUE)\n",
        "\n",
        "\n"
      ]
    },
    {
      "cell_type": "code",
      "source": [
        "## O comando abaixo permite acesso ao Google Drive\n",
        "drive_auth(use_oob=TRUE, cache=FALSE)"
      ],
      "metadata": {
        "id": "O4dzbQIK3SZW",
        "colab": {
          "base_uri": "https://localhost:8080/"
        },
        "outputId": "9ed37cac-589a-4680-92d2-9f7b9543b253"
      },
      "execution_count": 2,
      "outputs": [
        {
          "output_type": "stream",
          "name": "stderr",
          "text": [
            "Please point your browser to the following url: \n",
            "\n",
            "https://accounts.google.com/o/oauth2/v2/auth?client_id=603366585132-frjlouoa3s2ono25d2l9ukvhlsrlnr7k.apps.googleusercontent.com&scope=https%3A%2F%2Fwww.googleapis.com%2Fauth%2Fdrive%20https%3A%2F%2Fwww.googleapis.com%2Fauth%2Fuserinfo.email&redirect_uri=https%3A%2F%2Fwww.tidyverse.org%2Fgoogle-callback%2F&response_type=code&state=8890fc2cbad2c19c0a8ca5613621ddc2&access_type=offline&prompt=consent\n",
            "\n"
          ]
        },
        {
          "name": "stdout",
          "output_type": "stream",
          "text": [
            "Enter authorization code: eyJjb2RlIjoiNC8wQWZKb2hYbmV6YTVDQUxjRTViLTRjU3NRQkpLSnB6cFNNeDJnZk5VdUJ6WklkVFpibnkyV3dJRVJDZUZETDVLZzZHOUhJUSIsInN0YXRlIjoiODg5MGZjMmNiYWQyYzE5YzBhOGNhNTYxMzYyMWRkYzIifQ==\n"
          ]
        }
      ]
    },
    {
      "cell_type": "markdown",
      "source": [
        "Instruções\n"
      ],
      "metadata": {
        "id": "a1pJZKZF3ebf"
      }
    },
    {
      "cell_type": "code",
      "source": [
        "library(tidyverse)\n",
        "library(readxl)\n",
        "library(ggplot2)"
      ],
      "metadata": {
        "id": "PFu938IN32-Y",
        "colab": {
          "base_uri": "https://localhost:8080/"
        },
        "outputId": "8d77f9ad-306d-4cd6-b0b6-c5a049741588"
      },
      "execution_count": 3,
      "outputs": [
        {
          "output_type": "stream",
          "name": "stderr",
          "text": [
            "── \u001b[1mAttaching core tidyverse packages\u001b[22m ──────────────────────── tidyverse 2.0.0 ──\n",
            "\u001b[32m✔\u001b[39m \u001b[34mdplyr    \u001b[39m 1.1.3     \u001b[32m✔\u001b[39m \u001b[34mreadr    \u001b[39m 2.1.4\n",
            "\u001b[32m✔\u001b[39m \u001b[34mforcats  \u001b[39m 1.0.0     \u001b[32m✔\u001b[39m \u001b[34mstringr  \u001b[39m 1.5.0\n",
            "\u001b[32m✔\u001b[39m \u001b[34mggplot2  \u001b[39m 3.4.3     \u001b[32m✔\u001b[39m \u001b[34mtibble   \u001b[39m 3.2.1\n",
            "\u001b[32m✔\u001b[39m \u001b[34mlubridate\u001b[39m 1.9.2     \u001b[32m✔\u001b[39m \u001b[34mtidyr    \u001b[39m 1.3.0\n",
            "\u001b[32m✔\u001b[39m \u001b[34mpurrr    \u001b[39m 1.0.2     \n",
            "── \u001b[1mConflicts\u001b[22m ────────────────────────────────────────── tidyverse_conflicts() ──\n",
            "\u001b[31m✖\u001b[39m \u001b[34mtidyr\u001b[39m::\u001b[32mextract()\u001b[39m masks \u001b[34mR.utils\u001b[39m::extract()\n",
            "\u001b[31m✖\u001b[39m \u001b[34mdplyr\u001b[39m::\u001b[32mfilter()\u001b[39m  masks \u001b[34mstats\u001b[39m::filter()\n",
            "\u001b[31m✖\u001b[39m \u001b[34mdplyr\u001b[39m::\u001b[32mlag()\u001b[39m     masks \u001b[34mstats\u001b[39m::lag()\n",
            "\u001b[36mℹ\u001b[39m Use the conflicted package (\u001b[3m\u001b[34m<http://conflicted.r-lib.org/>\u001b[39m\u001b[23m) to force all conflicts to become errors\n"
          ]
        }
      ]
    },
    {
      "cell_type": "code",
      "source": [
        "covid19SP <- read_tsv(\"covid19SP.tsv\")\n",
        "eleicoes_turno2 <- read_csv(\"eleicoes_turno2_SP.csv\")\n",
        "estimativa <- read_xls(\"estimativa_dou_2021.xls\")\n",
        "\n",
        "\n"
      ],
      "metadata": {
        "colab": {
          "base_uri": "https://localhost:8080/"
        },
        "id": "LBWYkjlJ3hJQ",
        "outputId": "17e6830b-ddfc-4bb4-fc0d-af600b7061d6"
      },
      "execution_count": 4,
      "outputs": [
        {
          "output_type": "stream",
          "name": "stderr",
          "text": [
            "\u001b[1mRows: \u001b[22m\u001b[34m646\u001b[39m \u001b[1mColumns: \u001b[22m\u001b[34m3\u001b[39m\n",
            "\u001b[36m──\u001b[39m \u001b[1mColumn specification\u001b[22m \u001b[36m────────────────────────────────────────────────────────\u001b[39m\n",
            "\u001b[1mDelimiter:\u001b[22m \"\\t\"\n",
            "\u001b[31mchr\u001b[39m (1): nome_munic\n",
            "\u001b[32mdbl\u001b[39m (2): CASOS, OBITOS\n",
            "\n",
            "\u001b[36mℹ\u001b[39m Use `spec()` to retrieve the full column specification for this data.\n",
            "\u001b[36mℹ\u001b[39m Specify the column types or set `show_col_types = FALSE` to quiet this message.\n",
            "\u001b[1mRows: \u001b[22m\u001b[34m1560\u001b[39m \u001b[1mColumns: \u001b[22m\u001b[34m5\u001b[39m\n",
            "\u001b[36m──\u001b[39m \u001b[1mColumn specification\u001b[22m \u001b[36m────────────────────────────────────────────────────────\u001b[39m\n",
            "\u001b[1mDelimiter:\u001b[22m \",\"\n",
            "\u001b[31mchr\u001b[39m (2): NM_MUNICIPIO, NM_CANDIDATO\n",
            "\u001b[32mdbl\u001b[39m (3): CD_MUNICIPIO, NR_ZONA, QT_VOTOS_NOMINAIS\n",
            "\n",
            "\u001b[36mℹ\u001b[39m Use `spec()` to retrieve the full column specification for this data.\n",
            "\u001b[36mℹ\u001b[39m Specify the column types or set `show_col_types = FALSE` to quiet this message.\n",
            "\u001b[1m\u001b[22mNew names:\n",
            "\u001b[36m•\u001b[39m `` -> `...2`\n",
            "\u001b[36m•\u001b[39m `` -> `...3`\n"
          ]
        }
      ]
    },
    {
      "cell_type": "markdown",
      "source": [
        "1. Leia a planilha que possui informações do tamanho populacional (estimado para 2021) de cada um dos municípios\n",
        "brasileiros, presente no arquivo estimativa_dou_2021.xls e a armazene no objeto chamado populacao. A\n",
        "leitura deve compreender apenas os dados de interesse"
      ],
      "metadata": {
        "id": "eDI7u_xO4mcn"
      }
    },
    {
      "cell_type": "code",
      "source": [
        "populacao <- read_xls(\"estimativa_dou_2021.xls\", range = \"A2:E5572\", sheet = 2)\n",
        "head(populacao)"
      ],
      "metadata": {
        "colab": {
          "base_uri": "https://localhost:8080/",
          "height": 286
        },
        "id": "yrpoqy_E4qef",
        "outputId": "229f1065-6108-416d-fc27-9f1721ecf28f"
      },
      "execution_count": 5,
      "outputs": [
        {
          "output_type": "display_data",
          "data": {
            "text/html": [
              "<table class=\"dataframe\">\n",
              "<caption>A tibble: 6 × 5</caption>\n",
              "<thead>\n",
              "\t<tr><th scope=col>UF</th><th scope=col>COD. UF</th><th scope=col>COD. MUNIC</th><th scope=col>NOME DO MUNICÍPIO</th><th scope=col>POPULAÇÃO ESTIMADA</th></tr>\n",
              "\t<tr><th scope=col>&lt;chr&gt;</th><th scope=col>&lt;dbl&gt;</th><th scope=col>&lt;chr&gt;</th><th scope=col>&lt;chr&gt;</th><th scope=col>&lt;chr&gt;</th></tr>\n",
              "</thead>\n",
              "<tbody>\n",
              "\t<tr><td>RO</td><td>11</td><td>00015</td><td>Alta Floresta D'Oeste</td><td>22516 </td></tr>\n",
              "\t<tr><td>RO</td><td>11</td><td>00023</td><td>Ariquemes            </td><td>111148</td></tr>\n",
              "\t<tr><td>RO</td><td>11</td><td>00031</td><td>Cabixi               </td><td>5067  </td></tr>\n",
              "\t<tr><td>RO</td><td>11</td><td>00049</td><td>Cacoal               </td><td>86416 </td></tr>\n",
              "\t<tr><td>RO</td><td>11</td><td>00056</td><td>Cerejeiras           </td><td>16088 </td></tr>\n",
              "\t<tr><td>RO</td><td>11</td><td>00064</td><td>Colorado do Oeste    </td><td>15213 </td></tr>\n",
              "</tbody>\n",
              "</table>\n"
            ],
            "text/markdown": "\nA tibble: 6 × 5\n\n| UF &lt;chr&gt; | COD. UF &lt;dbl&gt; | COD. MUNIC &lt;chr&gt; | NOME DO MUNICÍPIO &lt;chr&gt; | POPULAÇÃO ESTIMADA &lt;chr&gt; |\n|---|---|---|---|---|\n| RO | 11 | 00015 | Alta Floresta D'Oeste | 22516  |\n| RO | 11 | 00023 | Ariquemes             | 111148 |\n| RO | 11 | 00031 | Cabixi                | 5067   |\n| RO | 11 | 00049 | Cacoal                | 86416  |\n| RO | 11 | 00056 | Cerejeiras            | 16088  |\n| RO | 11 | 00064 | Colorado do Oeste     | 15213  |\n\n",
            "text/latex": "A tibble: 6 × 5\n\\begin{tabular}{lllll}\n UF & COD. UF & COD. MUNIC & NOME DO MUNICÍPIO & POPULAÇÃO ESTIMADA\\\\\n <chr> & <dbl> & <chr> & <chr> & <chr>\\\\\n\\hline\n\t RO & 11 & 00015 & Alta Floresta D'Oeste & 22516 \\\\\n\t RO & 11 & 00023 & Ariquemes             & 111148\\\\\n\t RO & 11 & 00031 & Cabixi                & 5067  \\\\\n\t RO & 11 & 00049 & Cacoal                & 86416 \\\\\n\t RO & 11 & 00056 & Cerejeiras            & 16088 \\\\\n\t RO & 11 & 00064 & Colorado do Oeste     & 15213 \\\\\n\\end{tabular}\n",
            "text/plain": [
              "  UF COD. UF COD. MUNIC NOME DO MUNICÍPIO     POPULAÇÃO ESTIMADA\n",
              "1 RO 11      00015      Alta Floresta D'Oeste 22516             \n",
              "2 RO 11      00023      Ariquemes             111148            \n",
              "3 RO 11      00031      Cabixi                5067              \n",
              "4 RO 11      00049      Cacoal                86416             \n",
              "5 RO 11      00056      Cerejeiras            16088             \n",
              "6 RO 11      00064      Colorado do Oeste     15213             "
            ]
          },
          "metadata": {}
        }
      ]
    },
    {
      "cell_type": "markdown",
      "source": [
        "2. Usando verbos do tidyverse: a) mantenha apenas os registros de municípios do estado de São Paulo,\n",
        "b) renomeie as colunas NOME DO MUNICÍPIO e POPULAÇÃO ESTIMADA, respectivamente, para MUNICIPIO e\n",
        "POPULACAO; e c) armazene esta tabela no objeto populacao, mantendo apenas estas duas colunas com seus\n",
        "devidos tipos de variáveis.\n"
      ],
      "metadata": {
        "id": "R4N52NF55XGI"
      }
    },
    {
      "cell_type": "code",
      "source": [
        "populacao <- populacao %>% filter(UF == \"SP\") %>%\n",
        "            rename(MUNICIPIO ='NOME DO MUNICÍPIO' , POPULACAO = 'POPULAÇÃO ESTIMADA') %>%\n",
        "            select(MUNICIPIO, POPULACAO) %>%\n",
        "            mutate(\"MUNICIPIO\" = as.character(MUNICIPIO), \"POPULACAO\" = as.integer(POPULACAO))\n",
        "head(populacao)\n",
        "\n"
      ],
      "metadata": {
        "colab": {
          "base_uri": "https://localhost:8080/",
          "height": 286
        },
        "id": "nSJAgaUU5Zfp",
        "outputId": "9d7cc12a-9596-4ea3-caab-1e057736ff91"
      },
      "execution_count": 6,
      "outputs": [
        {
          "output_type": "display_data",
          "data": {
            "text/html": [
              "<table class=\"dataframe\">\n",
              "<caption>A tibble: 6 × 2</caption>\n",
              "<thead>\n",
              "\t<tr><th scope=col>MUNICIPIO</th><th scope=col>POPULACAO</th></tr>\n",
              "\t<tr><th scope=col>&lt;chr&gt;</th><th scope=col>&lt;int&gt;</th></tr>\n",
              "</thead>\n",
              "<tbody>\n",
              "\t<tr><td>Adamantina            </td><td>35153</td></tr>\n",
              "\t<tr><td>Adolfo                </td><td> 3545</td></tr>\n",
              "\t<tr><td>Aguaí                 </td><td>36981</td></tr>\n",
              "\t<tr><td>Águas da Prata        </td><td> 8262</td></tr>\n",
              "\t<tr><td>Águas de Lindóia      </td><td>18908</td></tr>\n",
              "\t<tr><td>Águas de Santa Bárbara</td><td> 6142</td></tr>\n",
              "</tbody>\n",
              "</table>\n"
            ],
            "text/markdown": "\nA tibble: 6 × 2\n\n| MUNICIPIO &lt;chr&gt; | POPULACAO &lt;int&gt; |\n|---|---|\n| Adamantina             | 35153 |\n| Adolfo                 |  3545 |\n| Aguaí                  | 36981 |\n| Águas da Prata         |  8262 |\n| Águas de Lindóia       | 18908 |\n| Águas de Santa Bárbara |  6142 |\n\n",
            "text/latex": "A tibble: 6 × 2\n\\begin{tabular}{ll}\n MUNICIPIO & POPULACAO\\\\\n <chr> & <int>\\\\\n\\hline\n\t Adamantina             & 35153\\\\\n\t Adolfo                 &  3545\\\\\n\t Aguaí                  & 36981\\\\\n\t Águas da Prata         &  8262\\\\\n\t Águas de Lindóia       & 18908\\\\\n\t Águas de Santa Bárbara &  6142\\\\\n\\end{tabular}\n",
            "text/plain": [
              "  MUNICIPIO              POPULACAO\n",
              "1 Adamantina             35153    \n",
              "2 Adolfo                  3545    \n",
              "3 Aguaí                  36981    \n",
              "4 Águas da Prata          8262    \n",
              "5 Águas de Lindóia       18908    \n",
              "6 Águas de Santa Bárbara  6142    "
            ]
          },
          "metadata": {}
        }
      ]
    },
    {
      "cell_type": "markdown",
      "source": [
        "3. Utilize a função dada abaixo:\n",
        "maiusc_sem_acento = function(v){\n",
        "stringi::stri_trans_general(str_to_upper(v), id = \"Latin-ASCII\")\n",
        "}\n",
        "para converter os nomes dos municípios para letras maiúsculas e remover os acentos da coluna MUNICIPIO do objeto\n",
        "populacao (utilize verbos do pacote tidyverse)."
      ],
      "metadata": {
        "id": "lwYmzhnO8i3t"
      }
    },
    {
      "cell_type": "code",
      "source": [
        "maiusc_sem_acento = function(v){\n",
        "stringi::stri_trans_general(str_to_upper(v), id = \"Latin-ASCII\")\n",
        "}\n",
        "\n",
        "\n",
        "\n"
      ],
      "metadata": {
        "id": "wIIm9YcX8pK5"
      },
      "execution_count": 7,
      "outputs": []
    },
    {
      "cell_type": "code",
      "source": [
        "CONVERTIDO  <- populacao %>% mutate(\"MUNICIPIO\" = maiusc_sem_acento(MUNICIPIO))\n",
        "\n",
        "head(CONVERTIDO)"
      ],
      "metadata": {
        "colab": {
          "base_uri": "https://localhost:8080/",
          "height": 286
        },
        "id": "F2_bAMM98sbi",
        "outputId": "3d5a6b2c-025f-48a5-c372-b5f85d4bb39e"
      },
      "execution_count": 8,
      "outputs": [
        {
          "output_type": "display_data",
          "data": {
            "text/html": [
              "<table class=\"dataframe\">\n",
              "<caption>A tibble: 6 × 2</caption>\n",
              "<thead>\n",
              "\t<tr><th scope=col>MUNICIPIO</th><th scope=col>POPULACAO</th></tr>\n",
              "\t<tr><th scope=col>&lt;chr&gt;</th><th scope=col>&lt;int&gt;</th></tr>\n",
              "</thead>\n",
              "<tbody>\n",
              "\t<tr><td>ADAMANTINA            </td><td>35153</td></tr>\n",
              "\t<tr><td>ADOLFO                </td><td> 3545</td></tr>\n",
              "\t<tr><td>AGUAI                 </td><td>36981</td></tr>\n",
              "\t<tr><td>AGUAS DA PRATA        </td><td> 8262</td></tr>\n",
              "\t<tr><td>AGUAS DE LINDOIA      </td><td>18908</td></tr>\n",
              "\t<tr><td>AGUAS DE SANTA BARBARA</td><td> 6142</td></tr>\n",
              "</tbody>\n",
              "</table>\n"
            ],
            "text/markdown": "\nA tibble: 6 × 2\n\n| MUNICIPIO &lt;chr&gt; | POPULACAO &lt;int&gt; |\n|---|---|\n| ADAMANTINA             | 35153 |\n| ADOLFO                 |  3545 |\n| AGUAI                  | 36981 |\n| AGUAS DA PRATA         |  8262 |\n| AGUAS DE LINDOIA       | 18908 |\n| AGUAS DE SANTA BARBARA |  6142 |\n\n",
            "text/latex": "A tibble: 6 × 2\n\\begin{tabular}{ll}\n MUNICIPIO & POPULACAO\\\\\n <chr> & <int>\\\\\n\\hline\n\t ADAMANTINA             & 35153\\\\\n\t ADOLFO                 &  3545\\\\\n\t AGUAI                  & 36981\\\\\n\t AGUAS DA PRATA         &  8262\\\\\n\t AGUAS DE LINDOIA       & 18908\\\\\n\t AGUAS DE SANTA BARBARA &  6142\\\\\n\\end{tabular}\n",
            "text/plain": [
              "  MUNICIPIO              POPULACAO\n",
              "1 ADAMANTINA             35153    \n",
              "2 ADOLFO                  3545    \n",
              "3 AGUAI                  36981    \n",
              "4 AGUAS DA PRATA          8262    \n",
              "5 AGUAS DE LINDOIA       18908    \n",
              "6 AGUAS DE SANTA BARBARA  6142    "
            ]
          },
          "metadata": {}
        }
      ]
    },
    {
      "cell_type": "markdown",
      "source": [
        "4. Importe o arquivo eleicoes_turno2_SP.csv por partes. Cada parte deve ser lida com, no máximo, 100\n",
        "registros. A função de callback deve ser chamada getStats e função que combinará os resultados parciais\n",
        "deve ser chamada computeStats. O objetivo final deste item é ter uma tabela (chamada votos), em\n",
        "formato tidy, indicando o número de votos recebido por cada um dos candidatos em cada um dos\n",
        "municípios. Utilize, também, as informações abaixo:\n"
      ],
      "metadata": {
        "id": "091TMgzG9SEK"
      }
    },
    {
      "cell_type": "code",
      "source": [
        "getStats = function(input, pos){\n",
        "        input %>%\n",
        "          drop_na()\n",
        "}\n",
        "\n",
        "\n",
        "\n",
        "\n",
        "votos =read_csv_chunked(\"eleicoes_turno2_SP.csv\",chunk_size = 100,\n",
        "             callback= DataFrameCallback$new(getStats),\n",
        "             col_types = cols_only(NM_MUNICIPIO ='c',\n",
        "                                   NM_CANDIDATO = 'c',\n",
        "                                   QT_VOTOS_NOMINAIS = 'i'))\n",
        "votos <- votos %>%\n",
        "   mutate( \"NM_CANDIDATO\" = ifelse(NM_CANDIDATO == \"JAIR MESSIAS BOLSONARO\", \"BOLSONARO\", \"HADDAD\"))\n",
        "\n",
        "computeStats = function(input){\n",
        "       input %>%\n",
        "         group_by(NM_CANDIDATO,NM_MUNICIPIO) %>%\n",
        "         summarise(votos_t = sum(QT_VOTOS_NOMINAIS))\n",
        "}\n",
        "votos <- computeStats(votos)\n",
        " head(votos)"
      ],
      "metadata": {
        "colab": {
          "base_uri": "https://localhost:8080/",
          "height": 321
        },
        "id": "QwGUuA_l9Umh",
        "outputId": "c1f310b9-68d2-4599-f4a2-9362d79b5165"
      },
      "execution_count": 9,
      "outputs": [
        {
          "output_type": "stream",
          "name": "stderr",
          "text": [
            "\u001b[1m\u001b[22m`summarise()` has grouped output by 'NM_CANDIDATO'. You can override using the\n",
            "`.groups` argument.\n"
          ]
        },
        {
          "output_type": "display_data",
          "data": {
            "text/html": [
              "<table class=\"dataframe\">\n",
              "<caption>A grouped_df: 6 × 3</caption>\n",
              "<thead>\n",
              "\t<tr><th scope=col>NM_CANDIDATO</th><th scope=col>NM_MUNICIPIO</th><th scope=col>votos_t</th></tr>\n",
              "\t<tr><th scope=col>&lt;chr&gt;</th><th scope=col>&lt;chr&gt;</th><th scope=col>&lt;int&gt;</th></tr>\n",
              "</thead>\n",
              "<tbody>\n",
              "\t<tr><td>BOLSONARO</td><td>ADAMANTINA            </td><td>15088</td></tr>\n",
              "\t<tr><td>BOLSONARO</td><td>ADOLFO                </td><td> 2041</td></tr>\n",
              "\t<tr><td>BOLSONARO</td><td>AGUAI                 </td><td>10765</td></tr>\n",
              "\t<tr><td>BOLSONARO</td><td>AGUAS DA PRATA        </td><td> 3172</td></tr>\n",
              "\t<tr><td>BOLSONARO</td><td>AGUAS DE LINDOIA      </td><td> 8221</td></tr>\n",
              "\t<tr><td>BOLSONARO</td><td>AGUAS DE SANTA BARBARA</td><td> 2448</td></tr>\n",
              "</tbody>\n",
              "</table>\n"
            ],
            "text/markdown": "\nA grouped_df: 6 × 3\n\n| NM_CANDIDATO &lt;chr&gt; | NM_MUNICIPIO &lt;chr&gt; | votos_t &lt;int&gt; |\n|---|---|---|\n| BOLSONARO | ADAMANTINA             | 15088 |\n| BOLSONARO | ADOLFO                 |  2041 |\n| BOLSONARO | AGUAI                  | 10765 |\n| BOLSONARO | AGUAS DA PRATA         |  3172 |\n| BOLSONARO | AGUAS DE LINDOIA       |  8221 |\n| BOLSONARO | AGUAS DE SANTA BARBARA |  2448 |\n\n",
            "text/latex": "A grouped\\_df: 6 × 3\n\\begin{tabular}{lll}\n NM\\_CANDIDATO & NM\\_MUNICIPIO & votos\\_t\\\\\n <chr> & <chr> & <int>\\\\\n\\hline\n\t BOLSONARO & ADAMANTINA             & 15088\\\\\n\t BOLSONARO & ADOLFO                 &  2041\\\\\n\t BOLSONARO & AGUAI                  & 10765\\\\\n\t BOLSONARO & AGUAS DA PRATA         &  3172\\\\\n\t BOLSONARO & AGUAS DE LINDOIA       &  8221\\\\\n\t BOLSONARO & AGUAS DE SANTA BARBARA &  2448\\\\\n\\end{tabular}\n",
            "text/plain": [
              "  NM_CANDIDATO NM_MUNICIPIO           votos_t\n",
              "1 BOLSONARO    ADAMANTINA             15088  \n",
              "2 BOLSONARO    ADOLFO                  2041  \n",
              "3 BOLSONARO    AGUAI                  10765  \n",
              "4 BOLSONARO    AGUAS DA PRATA          3172  \n",
              "5 BOLSONARO    AGUAS DE LINDOIA        8221  \n",
              "6 BOLSONARO    AGUAS DE SANTA BARBARA  2448  "
            ]
          },
          "metadata": {}
        }
      ]
    },
    {
      "cell_type": "markdown",
      "source": [
        "5. Leia o arquivo covid19SP.tsv usando o pacote readr e armazene o resultado no objeto covid19sp"
      ],
      "metadata": {
        "id": "9r_KMFdtBBe4"
      }
    },
    {
      "cell_type": "code",
      "source": [
        "covid19SP <- read_tsv(\"covid19SP.tsv\")\n",
        "head(covid19SP)"
      ],
      "metadata": {
        "colab": {
          "base_uri": "https://localhost:8080/",
          "height": 425
        },
        "id": "VZ--sxKtBCoB",
        "outputId": "2607056c-575d-4b78-be73-bc136ee2f03f"
      },
      "execution_count": 10,
      "outputs": [
        {
          "output_type": "stream",
          "name": "stderr",
          "text": [
            "\u001b[1mRows: \u001b[22m\u001b[34m646\u001b[39m \u001b[1mColumns: \u001b[22m\u001b[34m3\u001b[39m\n",
            "\u001b[36m──\u001b[39m \u001b[1mColumn specification\u001b[22m \u001b[36m────────────────────────────────────────────────────────\u001b[39m\n",
            "\u001b[1mDelimiter:\u001b[22m \"\\t\"\n",
            "\u001b[31mchr\u001b[39m (1): nome_munic\n",
            "\u001b[32mdbl\u001b[39m (2): CASOS, OBITOS\n",
            "\n",
            "\u001b[36mℹ\u001b[39m Use `spec()` to retrieve the full column specification for this data.\n",
            "\u001b[36mℹ\u001b[39m Specify the column types or set `show_col_types = FALSE` to quiet this message.\n"
          ]
        },
        {
          "output_type": "display_data",
          "data": {
            "text/html": [
              "<table class=\"dataframe\">\n",
              "<caption>A tibble: 6 × 3</caption>\n",
              "<thead>\n",
              "\t<tr><th scope=col>nome_munic</th><th scope=col>CASOS</th><th scope=col>OBITOS</th></tr>\n",
              "\t<tr><th scope=col>&lt;chr&gt;</th><th scope=col>&lt;dbl&gt;</th><th scope=col>&lt;dbl&gt;</th></tr>\n",
              "</thead>\n",
              "<tbody>\n",
              "\t<tr><td>ADAMANTINA            </td><td>3757</td><td>132</td></tr>\n",
              "\t<tr><td>ADOLFO                </td><td> 624</td><td> 19</td></tr>\n",
              "\t<tr><td>AGUAI                 </td><td>3574</td><td>109</td></tr>\n",
              "\t<tr><td>AGUAS DA PRATA        </td><td> 639</td><td> 26</td></tr>\n",
              "\t<tr><td>AGUAS DE LINDOIA      </td><td>2023</td><td> 50</td></tr>\n",
              "\t<tr><td>AGUAS DE SANTA BARBARA</td><td> 590</td><td> 18</td></tr>\n",
              "</tbody>\n",
              "</table>\n"
            ],
            "text/markdown": "\nA tibble: 6 × 3\n\n| nome_munic &lt;chr&gt; | CASOS &lt;dbl&gt; | OBITOS &lt;dbl&gt; |\n|---|---|---|\n| ADAMANTINA             | 3757 | 132 |\n| ADOLFO                 |  624 |  19 |\n| AGUAI                  | 3574 | 109 |\n| AGUAS DA PRATA         |  639 |  26 |\n| AGUAS DE LINDOIA       | 2023 |  50 |\n| AGUAS DE SANTA BARBARA |  590 |  18 |\n\n",
            "text/latex": "A tibble: 6 × 3\n\\begin{tabular}{lll}\n nome\\_munic & CASOS & OBITOS\\\\\n <chr> & <dbl> & <dbl>\\\\\n\\hline\n\t ADAMANTINA             & 3757 & 132\\\\\n\t ADOLFO                 &  624 &  19\\\\\n\t AGUAI                  & 3574 & 109\\\\\n\t AGUAS DA PRATA         &  639 &  26\\\\\n\t AGUAS DE LINDOIA       & 2023 &  50\\\\\n\t AGUAS DE SANTA BARBARA &  590 &  18\\\\\n\\end{tabular}\n",
            "text/plain": [
              "  nome_munic             CASOS OBITOS\n",
              "1 ADAMANTINA             3757  132   \n",
              "2 ADOLFO                  624   19   \n",
              "3 AGUAI                  3574  109   \n",
              "4 AGUAS DA PRATA          639   26   \n",
              "5 AGUAS DE LINDOIA       2023   50   \n",
              "6 AGUAS DE SANTA BARBARA  590   18   "
            ]
          },
          "metadata": {}
        }
      ]
    },
    {
      "cell_type": "markdown",
      "source": [
        "6. Que municípios (juntamente com número de casos e óbitos) estão listados no objeto covid19sp que não possuem\n",
        "estimativa de tamanho de população?"
      ],
      "metadata": {
        "id": "yjomrYUSBZbQ"
      }
    },
    {
      "cell_type": "code",
      "source": [
        "\n",
        "municipios <- covid19SP %>%\n",
        "            anti_join(CONVERTIDO, by = c(\"nome_munic\" = \"MUNICIPIO\" ))\n",
        "\n",
        "head(municipios)\n"
      ],
      "metadata": {
        "colab": {
          "base_uri": "https://localhost:8080/",
          "height": 129
        },
        "id": "mSNBvdhEBbNg",
        "outputId": "3fec33e9-d2c1-40ee-c201-1185a19941ac"
      },
      "execution_count": 11,
      "outputs": [
        {
          "output_type": "display_data",
          "data": {
            "text/html": [
              "<table class=\"dataframe\">\n",
              "<caption>A tibble: 1 × 3</caption>\n",
              "<thead>\n",
              "\t<tr><th scope=col>nome_munic</th><th scope=col>CASOS</th><th scope=col>OBITOS</th></tr>\n",
              "\t<tr><th scope=col>&lt;chr&gt;</th><th scope=col>&lt;dbl&gt;</th><th scope=col>&lt;dbl&gt;</th></tr>\n",
              "</thead>\n",
              "<tbody>\n",
              "\t<tr><td>IGNORADO</td><td>989</td><td>0</td></tr>\n",
              "</tbody>\n",
              "</table>\n"
            ],
            "text/markdown": "\nA tibble: 1 × 3\n\n| nome_munic &lt;chr&gt; | CASOS &lt;dbl&gt; | OBITOS &lt;dbl&gt; |\n|---|---|---|\n| IGNORADO | 989 | 0 |\n\n",
            "text/latex": "A tibble: 1 × 3\n\\begin{tabular}{lll}\n nome\\_munic & CASOS & OBITOS\\\\\n <chr> & <dbl> & <dbl>\\\\\n\\hline\n\t IGNORADO & 989 & 0\\\\\n\\end{tabular}\n",
            "text/plain": [
              "  nome_munic CASOS OBITOS\n",
              "1 IGNORADO   989   0     "
            ]
          },
          "metadata": {}
        }
      ]
    },
    {
      "cell_type": "markdown",
      "source": [
        " Tem 989 municipios que não possuem estimativa de população"
      ],
      "metadata": {
        "id": "JkEJXX2cRqUa"
      }
    },
    {
      "cell_type": "markdown",
      "source": [
        "7. Crie uma tabela que unifique os objetos populacao, votos e covid19sp. Armazene esta tabela no objeto\n",
        "dados_covid_sp"
      ],
      "metadata": {
        "id": "p0dNu8CmC8AJ"
      }
    },
    {
      "cell_type": "code",
      "source": [
        "\n",
        "\n",
        "primeiro_join <- CONVERTIDO %>%\n",
        "                   left_join(covid19SP, by=c(\"MUNICIPIO\" = \"nome_munic\"))\n",
        "\n",
        "\n",
        "\n",
        "\n",
        "\n",
        " dados_covid_sp <- primeiro_join %>%\n",
        "   inner_join(votos, by = c(\"MUNICIPIO\" = \"NM_MUNICIPIO\" ))\n",
        "\n",
        "\n",
        "\n",
        "\n",
        "\n",
        "\n",
        "\n",
        "\n",
        " #full <- primeiro_join %>%\n",
        "  #full_join(votos, by = c(\"MUNICIPIO\" = \"NM_MUNICIPIO\" ))\n",
        "\n",
        "#full$MUNICIPIO <- str_replace(full$MUNICIPIO, pattern = \"'\", replacement = \" \")\n",
        "\n",
        "#full\n",
        " # comparar <- full %>% anti_join(dados_covid_sp, by = \"MUNICIPIO\" )\n",
        "\n",
        "\n",
        "\n",
        "\n"
      ],
      "metadata": {
        "colab": {
          "base_uri": "https://localhost:8080/",
          "height": 1000
        },
        "id": "Pf7Bis7QC-Qb",
        "outputId": "211b9e43-940b-4ebb-ec1b-47426a61c893"
      },
      "execution_count": 31,
      "outputs": [
        {
          "output_type": "display_data",
          "data": {
            "text/html": [
              "<table class=\"dataframe\">\n",
              "<caption>A tibble: 1299 × 6</caption>\n",
              "<thead>\n",
              "\t<tr><th scope=col>MUNICIPIO</th><th scope=col>POPULACAO</th><th scope=col>CASOS</th><th scope=col>OBITOS</th><th scope=col>NM_CANDIDATO</th><th scope=col>votos_t</th></tr>\n",
              "\t<tr><th scope=col>&lt;chr&gt;</th><th scope=col>&lt;int&gt;</th><th scope=col>&lt;dbl&gt;</th><th scope=col>&lt;dbl&gt;</th><th scope=col>&lt;chr&gt;</th><th scope=col>&lt;int&gt;</th></tr>\n",
              "</thead>\n",
              "<tbody>\n",
              "\t<tr><td>ADAMANTINA            </td><td>35153</td><td>3757</td><td>132</td><td>BOLSONARO</td><td>15088</td></tr>\n",
              "\t<tr><td>ADAMANTINA            </td><td>35153</td><td>3757</td><td>132</td><td>HADDAD   </td><td> 3156</td></tr>\n",
              "\t<tr><td>ADOLFO                </td><td> 3545</td><td> 624</td><td> 19</td><td>BOLSONARO</td><td> 2041</td></tr>\n",
              "\t<tr><td>ADOLFO                </td><td> 3545</td><td> 624</td><td> 19</td><td>HADDAD   </td><td>  661</td></tr>\n",
              "\t<tr><td>AGUAI                 </td><td>36981</td><td>3574</td><td>109</td><td>BOLSONARO</td><td>10765</td></tr>\n",
              "\t<tr><td>AGUAI                 </td><td>36981</td><td>3574</td><td>109</td><td>HADDAD   </td><td> 4335</td></tr>\n",
              "\t<tr><td>AGUAS DA PRATA        </td><td> 8262</td><td> 639</td><td> 26</td><td>BOLSONARO</td><td> 3172</td></tr>\n",
              "\t<tr><td>AGUAS DA PRATA        </td><td> 8262</td><td> 639</td><td> 26</td><td>HADDAD   </td><td>  997</td></tr>\n",
              "\t<tr><td>AGUAS DE LINDOIA      </td><td>18908</td><td>2023</td><td> 50</td><td>BOLSONARO</td><td> 8221</td></tr>\n",
              "\t<tr><td>AGUAS DE LINDOIA      </td><td>18908</td><td>2023</td><td> 50</td><td>HADDAD   </td><td> 1712</td></tr>\n",
              "\t<tr><td>AGUAS DE SANTA BARBARA</td><td> 6142</td><td> 590</td><td> 18</td><td>BOLSONARO</td><td> 2448</td></tr>\n",
              "\t<tr><td>AGUAS DE SANTA BARBARA</td><td> 6142</td><td> 590</td><td> 18</td><td>HADDAD   </td><td>  850</td></tr>\n",
              "\t<tr><td>AGUAS DE SAO PEDRO    </td><td> 3588</td><td> 455</td><td> 11</td><td>BOLSONARO</td><td> 2062</td></tr>\n",
              "\t<tr><td>AGUAS DE SAO PEDRO    </td><td> 3588</td><td> 455</td><td> 11</td><td>HADDAD   </td><td>  560</td></tr>\n",
              "\t<tr><td>AGUDOS                </td><td>37582</td><td>4673</td><td>110</td><td>BOLSONARO</td><td>15379</td></tr>\n",
              "\t<tr><td>AGUDOS                </td><td>37582</td><td>4673</td><td>110</td><td>HADDAD   </td><td> 4571</td></tr>\n",
              "\t<tr><td>ALAMBARI              </td><td> 6231</td><td> 679</td><td> 12</td><td>BOLSONARO</td><td> 2432</td></tr>\n",
              "\t<tr><td>ALAMBARI              </td><td> 6231</td><td> 679</td><td> 12</td><td>HADDAD   </td><td>  747</td></tr>\n",
              "\t<tr><td>ALFREDO MARCONDES     </td><td> 4201</td><td> 265</td><td> 13</td><td>BOLSONARO</td><td> 1880</td></tr>\n",
              "\t<tr><td>ALFREDO MARCONDES     </td><td> 4201</td><td> 265</td><td> 13</td><td>HADDAD   </td><td>  853</td></tr>\n",
              "\t<tr><td>ALTAIR                </td><td> 4211</td><td> 334</td><td> 17</td><td>BOLSONARO</td><td> 1269</td></tr>\n",
              "\t<tr><td>ALTAIR                </td><td> 4211</td><td> 334</td><td> 17</td><td>HADDAD   </td><td>  808</td></tr>\n",
              "\t<tr><td>ALTINOPOLIS           </td><td>16221</td><td>1016</td><td> 50</td><td>BOLSONARO</td><td> 5115</td></tr>\n",
              "\t<tr><td>ALTINOPOLIS           </td><td>16221</td><td>1016</td><td> 50</td><td>HADDAD   </td><td> 2905</td></tr>\n",
              "\t<tr><td>ALTO ALEGRE           </td><td> 4078</td><td> 395</td><td> 21</td><td>BOLSONARO</td><td> 1932</td></tr>\n",
              "\t<tr><td>ALTO ALEGRE           </td><td> 4078</td><td> 395</td><td> 21</td><td>HADDAD   </td><td>  576</td></tr>\n",
              "\t<tr><td>ALUMINIO              </td><td>18903</td><td>1604</td><td> 52</td><td>BOLSONARO</td><td> 6530</td></tr>\n",
              "\t<tr><td>ALUMINIO              </td><td>18903</td><td>1604</td><td> 52</td><td>HADDAD   </td><td> 3054</td></tr>\n",
              "\t<tr><td>ALVARES FLORENCE      </td><td> 3616</td><td> 616</td><td> 14</td><td>BOLSONARO</td><td> 2008</td></tr>\n",
              "\t<tr><td>ALVARES FLORENCE      </td><td> 3616</td><td> 616</td><td> 14</td><td>HADDAD   </td><td>  637</td></tr>\n",
              "\t<tr><td>⋮</td><td>⋮</td><td>⋮</td><td>⋮</td><td>⋮</td><td>⋮</td></tr>\n",
              "\t<tr><td>VITORIA BRASIL        </td><td>  1852</td><td>  250</td><td>  9</td><td>BOLSONARO</td><td>  753</td></tr>\n",
              "\t<tr><td>VITORIA BRASIL        </td><td>  1852</td><td>  250</td><td>  9</td><td>HADDAD   </td><td>  405</td></tr>\n",
              "\t<tr><td>VOTORANTIM            </td><td>124468</td><td>11502</td><td>514</td><td>BOLSONARO</td><td>46025</td></tr>\n",
              "\t<tr><td>VOTORANTIM            </td><td>124468</td><td>11502</td><td>514</td><td>HADDAD   </td><td>16250</td></tr>\n",
              "\t<tr><td>VOTUPORANGA           </td><td> 96106</td><td>15824</td><td>451</td><td>BOLSONARO</td><td>36114</td></tr>\n",
              "\t<tr><td>VOTUPORANGA           </td><td> 96106</td><td>15824</td><td>451</td><td>HADDAD   </td><td>10502</td></tr>\n",
              "\t<tr><td>ZACARIAS              </td><td>  2784</td><td>  263</td><td> 10</td><td>BOLSONARO</td><td> 1132</td></tr>\n",
              "\t<tr><td>ZACARIAS              </td><td>  2784</td><td>  263</td><td> 10</td><td>HADDAD   </td><td>  457</td></tr>\n",
              "\t<tr><td>CHAVANTES             </td><td> 12418</td><td> 1321</td><td> 48</td><td>BOLSONARO</td><td> 4551</td></tr>\n",
              "\t<tr><td>CHAVANTES             </td><td> 12418</td><td> 1321</td><td> 48</td><td>HADDAD   </td><td> 1738</td></tr>\n",
              "\t<tr><td>ESTIVA GERBI          </td><td> 11507</td><td>  805</td><td> 33</td><td>BOLSONARO</td><td> 4662</td></tr>\n",
              "\t<tr><td>ESTIVA GERBI          </td><td> 11507</td><td>  805</td><td> 33</td><td>HADDAD   </td><td> 1395</td></tr>\n",
              "\t<tr><td>APARECIDA D OESTE     </td><td>    NA</td><td>   NA</td><td> NA</td><td>BOLSONARO</td><td> 1547</td></tr>\n",
              "\t<tr><td>ESTRELA D OESTE       </td><td>    NA</td><td>   NA</td><td> NA</td><td>BOLSONARO</td><td> 3624</td></tr>\n",
              "\t<tr><td>GUARANI D OESTE       </td><td>    NA</td><td>   NA</td><td> NA</td><td>BOLSONARO</td><td>  582</td></tr>\n",
              "\t<tr><td>PALMEIRA D OESTE      </td><td>    NA</td><td>   NA</td><td> NA</td><td>BOLSONARO</td><td> 3406</td></tr>\n",
              "\t<tr><td>SANTA BARBARA D OESTE </td><td>    NA</td><td>   NA</td><td> NA</td><td>BOLSONARO</td><td>76429</td></tr>\n",
              "\t<tr><td>SANTA CLARA D OESTE   </td><td>    NA</td><td>   NA</td><td> NA</td><td>BOLSONARO</td><td>  988</td></tr>\n",
              "\t<tr><td>SANTA RITA D OESTE    </td><td>    NA</td><td>   NA</td><td> NA</td><td>BOLSONARO</td><td> 1127</td></tr>\n",
              "\t<tr><td>SAO JOAO DO PAU D ALHO</td><td>    NA</td><td>   NA</td><td> NA</td><td>BOLSONARO</td><td>  860</td></tr>\n",
              "\t<tr><td>SAO LUIS DO PARAITINGA</td><td>    NA</td><td>   NA</td><td> NA</td><td>BOLSONARO</td><td> 4486</td></tr>\n",
              "\t<tr><td>APARECIDA D OESTE     </td><td>    NA</td><td>   NA</td><td> NA</td><td>HADDAD   </td><td> 1090</td></tr>\n",
              "\t<tr><td>ESTRELA D OESTE       </td><td>    NA</td><td>   NA</td><td> NA</td><td>HADDAD   </td><td> 1095</td></tr>\n",
              "\t<tr><td>GUARANI D OESTE       </td><td>    NA</td><td>   NA</td><td> NA</td><td>HADDAD   </td><td>  459</td></tr>\n",
              "\t<tr><td>PALMEIRA D OESTE      </td><td>    NA</td><td>   NA</td><td> NA</td><td>HADDAD   </td><td> 1698</td></tr>\n",
              "\t<tr><td>SANTA BARBARA D OESTE </td><td>    NA</td><td>   NA</td><td> NA</td><td>HADDAD   </td><td>22479</td></tr>\n",
              "\t<tr><td>SANTA CLARA D OESTE   </td><td>    NA</td><td>   NA</td><td> NA</td><td>HADDAD   </td><td>  464</td></tr>\n",
              "\t<tr><td>SANTA RITA D OESTE    </td><td>    NA</td><td>   NA</td><td> NA</td><td>HADDAD   </td><td>  511</td></tr>\n",
              "\t<tr><td>SAO JOAO DO PAU D ALHO</td><td>    NA</td><td>   NA</td><td> NA</td><td>HADDAD   </td><td>  579</td></tr>\n",
              "\t<tr><td>SAO LUIS DO PARAITINGA</td><td>    NA</td><td>   NA</td><td> NA</td><td>HADDAD   </td><td> 2033</td></tr>\n",
              "</tbody>\n",
              "</table>\n"
            ],
            "text/markdown": "\nA tibble: 1299 × 6\n\n| MUNICIPIO &lt;chr&gt; | POPULACAO &lt;int&gt; | CASOS &lt;dbl&gt; | OBITOS &lt;dbl&gt; | NM_CANDIDATO &lt;chr&gt; | votos_t &lt;int&gt; |\n|---|---|---|---|---|---|\n| ADAMANTINA             | 35153 | 3757 | 132 | BOLSONARO | 15088 |\n| ADAMANTINA             | 35153 | 3757 | 132 | HADDAD    |  3156 |\n| ADOLFO                 |  3545 |  624 |  19 | BOLSONARO |  2041 |\n| ADOLFO                 |  3545 |  624 |  19 | HADDAD    |   661 |\n| AGUAI                  | 36981 | 3574 | 109 | BOLSONARO | 10765 |\n| AGUAI                  | 36981 | 3574 | 109 | HADDAD    |  4335 |\n| AGUAS DA PRATA         |  8262 |  639 |  26 | BOLSONARO |  3172 |\n| AGUAS DA PRATA         |  8262 |  639 |  26 | HADDAD    |   997 |\n| AGUAS DE LINDOIA       | 18908 | 2023 |  50 | BOLSONARO |  8221 |\n| AGUAS DE LINDOIA       | 18908 | 2023 |  50 | HADDAD    |  1712 |\n| AGUAS DE SANTA BARBARA |  6142 |  590 |  18 | BOLSONARO |  2448 |\n| AGUAS DE SANTA BARBARA |  6142 |  590 |  18 | HADDAD    |   850 |\n| AGUAS DE SAO PEDRO     |  3588 |  455 |  11 | BOLSONARO |  2062 |\n| AGUAS DE SAO PEDRO     |  3588 |  455 |  11 | HADDAD    |   560 |\n| AGUDOS                 | 37582 | 4673 | 110 | BOLSONARO | 15379 |\n| AGUDOS                 | 37582 | 4673 | 110 | HADDAD    |  4571 |\n| ALAMBARI               |  6231 |  679 |  12 | BOLSONARO |  2432 |\n| ALAMBARI               |  6231 |  679 |  12 | HADDAD    |   747 |\n| ALFREDO MARCONDES      |  4201 |  265 |  13 | BOLSONARO |  1880 |\n| ALFREDO MARCONDES      |  4201 |  265 |  13 | HADDAD    |   853 |\n| ALTAIR                 |  4211 |  334 |  17 | BOLSONARO |  1269 |\n| ALTAIR                 |  4211 |  334 |  17 | HADDAD    |   808 |\n| ALTINOPOLIS            | 16221 | 1016 |  50 | BOLSONARO |  5115 |\n| ALTINOPOLIS            | 16221 | 1016 |  50 | HADDAD    |  2905 |\n| ALTO ALEGRE            |  4078 |  395 |  21 | BOLSONARO |  1932 |\n| ALTO ALEGRE            |  4078 |  395 |  21 | HADDAD    |   576 |\n| ALUMINIO               | 18903 | 1604 |  52 | BOLSONARO |  6530 |\n| ALUMINIO               | 18903 | 1604 |  52 | HADDAD    |  3054 |\n| ALVARES FLORENCE       |  3616 |  616 |  14 | BOLSONARO |  2008 |\n| ALVARES FLORENCE       |  3616 |  616 |  14 | HADDAD    |   637 |\n| ⋮ | ⋮ | ⋮ | ⋮ | ⋮ | ⋮ |\n| VITORIA BRASIL         |   1852 |   250 |   9 | BOLSONARO |   753 |\n| VITORIA BRASIL         |   1852 |   250 |   9 | HADDAD    |   405 |\n| VOTORANTIM             | 124468 | 11502 | 514 | BOLSONARO | 46025 |\n| VOTORANTIM             | 124468 | 11502 | 514 | HADDAD    | 16250 |\n| VOTUPORANGA            |  96106 | 15824 | 451 | BOLSONARO | 36114 |\n| VOTUPORANGA            |  96106 | 15824 | 451 | HADDAD    | 10502 |\n| ZACARIAS               |   2784 |   263 |  10 | BOLSONARO |  1132 |\n| ZACARIAS               |   2784 |   263 |  10 | HADDAD    |   457 |\n| CHAVANTES              |  12418 |  1321 |  48 | BOLSONARO |  4551 |\n| CHAVANTES              |  12418 |  1321 |  48 | HADDAD    |  1738 |\n| ESTIVA GERBI           |  11507 |   805 |  33 | BOLSONARO |  4662 |\n| ESTIVA GERBI           |  11507 |   805 |  33 | HADDAD    |  1395 |\n| APARECIDA D OESTE      |     NA |    NA |  NA | BOLSONARO |  1547 |\n| ESTRELA D OESTE        |     NA |    NA |  NA | BOLSONARO |  3624 |\n| GUARANI D OESTE        |     NA |    NA |  NA | BOLSONARO |   582 |\n| PALMEIRA D OESTE       |     NA |    NA |  NA | BOLSONARO |  3406 |\n| SANTA BARBARA D OESTE  |     NA |    NA |  NA | BOLSONARO | 76429 |\n| SANTA CLARA D OESTE    |     NA |    NA |  NA | BOLSONARO |   988 |\n| SANTA RITA D OESTE     |     NA |    NA |  NA | BOLSONARO |  1127 |\n| SAO JOAO DO PAU D ALHO |     NA |    NA |  NA | BOLSONARO |   860 |\n| SAO LUIS DO PARAITINGA |     NA |    NA |  NA | BOLSONARO |  4486 |\n| APARECIDA D OESTE      |     NA |    NA |  NA | HADDAD    |  1090 |\n| ESTRELA D OESTE        |     NA |    NA |  NA | HADDAD    |  1095 |\n| GUARANI D OESTE        |     NA |    NA |  NA | HADDAD    |   459 |\n| PALMEIRA D OESTE       |     NA |    NA |  NA | HADDAD    |  1698 |\n| SANTA BARBARA D OESTE  |     NA |    NA |  NA | HADDAD    | 22479 |\n| SANTA CLARA D OESTE    |     NA |    NA |  NA | HADDAD    |   464 |\n| SANTA RITA D OESTE     |     NA |    NA |  NA | HADDAD    |   511 |\n| SAO JOAO DO PAU D ALHO |     NA |    NA |  NA | HADDAD    |   579 |\n| SAO LUIS DO PARAITINGA |     NA |    NA |  NA | HADDAD    |  2033 |\n\n",
            "text/latex": "A tibble: 1299 × 6\n\\begin{tabular}{llllll}\n MUNICIPIO & POPULACAO & CASOS & OBITOS & NM\\_CANDIDATO & votos\\_t\\\\\n <chr> & <int> & <dbl> & <dbl> & <chr> & <int>\\\\\n\\hline\n\t ADAMANTINA             & 35153 & 3757 & 132 & BOLSONARO & 15088\\\\\n\t ADAMANTINA             & 35153 & 3757 & 132 & HADDAD    &  3156\\\\\n\t ADOLFO                 &  3545 &  624 &  19 & BOLSONARO &  2041\\\\\n\t ADOLFO                 &  3545 &  624 &  19 & HADDAD    &   661\\\\\n\t AGUAI                  & 36981 & 3574 & 109 & BOLSONARO & 10765\\\\\n\t AGUAI                  & 36981 & 3574 & 109 & HADDAD    &  4335\\\\\n\t AGUAS DA PRATA         &  8262 &  639 &  26 & BOLSONARO &  3172\\\\\n\t AGUAS DA PRATA         &  8262 &  639 &  26 & HADDAD    &   997\\\\\n\t AGUAS DE LINDOIA       & 18908 & 2023 &  50 & BOLSONARO &  8221\\\\\n\t AGUAS DE LINDOIA       & 18908 & 2023 &  50 & HADDAD    &  1712\\\\\n\t AGUAS DE SANTA BARBARA &  6142 &  590 &  18 & BOLSONARO &  2448\\\\\n\t AGUAS DE SANTA BARBARA &  6142 &  590 &  18 & HADDAD    &   850\\\\\n\t AGUAS DE SAO PEDRO     &  3588 &  455 &  11 & BOLSONARO &  2062\\\\\n\t AGUAS DE SAO PEDRO     &  3588 &  455 &  11 & HADDAD    &   560\\\\\n\t AGUDOS                 & 37582 & 4673 & 110 & BOLSONARO & 15379\\\\\n\t AGUDOS                 & 37582 & 4673 & 110 & HADDAD    &  4571\\\\\n\t ALAMBARI               &  6231 &  679 &  12 & BOLSONARO &  2432\\\\\n\t ALAMBARI               &  6231 &  679 &  12 & HADDAD    &   747\\\\\n\t ALFREDO MARCONDES      &  4201 &  265 &  13 & BOLSONARO &  1880\\\\\n\t ALFREDO MARCONDES      &  4201 &  265 &  13 & HADDAD    &   853\\\\\n\t ALTAIR                 &  4211 &  334 &  17 & BOLSONARO &  1269\\\\\n\t ALTAIR                 &  4211 &  334 &  17 & HADDAD    &   808\\\\\n\t ALTINOPOLIS            & 16221 & 1016 &  50 & BOLSONARO &  5115\\\\\n\t ALTINOPOLIS            & 16221 & 1016 &  50 & HADDAD    &  2905\\\\\n\t ALTO ALEGRE            &  4078 &  395 &  21 & BOLSONARO &  1932\\\\\n\t ALTO ALEGRE            &  4078 &  395 &  21 & HADDAD    &   576\\\\\n\t ALUMINIO               & 18903 & 1604 &  52 & BOLSONARO &  6530\\\\\n\t ALUMINIO               & 18903 & 1604 &  52 & HADDAD    &  3054\\\\\n\t ALVARES FLORENCE       &  3616 &  616 &  14 & BOLSONARO &  2008\\\\\n\t ALVARES FLORENCE       &  3616 &  616 &  14 & HADDAD    &   637\\\\\n\t ⋮ & ⋮ & ⋮ & ⋮ & ⋮ & ⋮\\\\\n\t VITORIA BRASIL         &   1852 &   250 &   9 & BOLSONARO &   753\\\\\n\t VITORIA BRASIL         &   1852 &   250 &   9 & HADDAD    &   405\\\\\n\t VOTORANTIM             & 124468 & 11502 & 514 & BOLSONARO & 46025\\\\\n\t VOTORANTIM             & 124468 & 11502 & 514 & HADDAD    & 16250\\\\\n\t VOTUPORANGA            &  96106 & 15824 & 451 & BOLSONARO & 36114\\\\\n\t VOTUPORANGA            &  96106 & 15824 & 451 & HADDAD    & 10502\\\\\n\t ZACARIAS               &   2784 &   263 &  10 & BOLSONARO &  1132\\\\\n\t ZACARIAS               &   2784 &   263 &  10 & HADDAD    &   457\\\\\n\t CHAVANTES              &  12418 &  1321 &  48 & BOLSONARO &  4551\\\\\n\t CHAVANTES              &  12418 &  1321 &  48 & HADDAD    &  1738\\\\\n\t ESTIVA GERBI           &  11507 &   805 &  33 & BOLSONARO &  4662\\\\\n\t ESTIVA GERBI           &  11507 &   805 &  33 & HADDAD    &  1395\\\\\n\t APARECIDA D OESTE      &     NA &    NA &  NA & BOLSONARO &  1547\\\\\n\t ESTRELA D OESTE        &     NA &    NA &  NA & BOLSONARO &  3624\\\\\n\t GUARANI D OESTE        &     NA &    NA &  NA & BOLSONARO &   582\\\\\n\t PALMEIRA D OESTE       &     NA &    NA &  NA & BOLSONARO &  3406\\\\\n\t SANTA BARBARA D OESTE  &     NA &    NA &  NA & BOLSONARO & 76429\\\\\n\t SANTA CLARA D OESTE    &     NA &    NA &  NA & BOLSONARO &   988\\\\\n\t SANTA RITA D OESTE     &     NA &    NA &  NA & BOLSONARO &  1127\\\\\n\t SAO JOAO DO PAU D ALHO &     NA &    NA &  NA & BOLSONARO &   860\\\\\n\t SAO LUIS DO PARAITINGA &     NA &    NA &  NA & BOLSONARO &  4486\\\\\n\t APARECIDA D OESTE      &     NA &    NA &  NA & HADDAD    &  1090\\\\\n\t ESTRELA D OESTE        &     NA &    NA &  NA & HADDAD    &  1095\\\\\n\t GUARANI D OESTE        &     NA &    NA &  NA & HADDAD    &   459\\\\\n\t PALMEIRA D OESTE       &     NA &    NA &  NA & HADDAD    &  1698\\\\\n\t SANTA BARBARA D OESTE  &     NA &    NA &  NA & HADDAD    & 22479\\\\\n\t SANTA CLARA D OESTE    &     NA &    NA &  NA & HADDAD    &   464\\\\\n\t SANTA RITA D OESTE     &     NA &    NA &  NA & HADDAD    &   511\\\\\n\t SAO JOAO DO PAU D ALHO &     NA &    NA &  NA & HADDAD    &   579\\\\\n\t SAO LUIS DO PARAITINGA &     NA &    NA &  NA & HADDAD    &  2033\\\\\n\\end{tabular}\n",
            "text/plain": [
              "     MUNICIPIO              POPULACAO CASOS OBITOS NM_CANDIDATO votos_t\n",
              "1    ADAMANTINA             35153     3757  132    BOLSONARO    15088  \n",
              "2    ADAMANTINA             35153     3757  132    HADDAD        3156  \n",
              "3    ADOLFO                  3545      624   19    BOLSONARO     2041  \n",
              "4    ADOLFO                  3545      624   19    HADDAD         661  \n",
              "5    AGUAI                  36981     3574  109    BOLSONARO    10765  \n",
              "6    AGUAI                  36981     3574  109    HADDAD        4335  \n",
              "7    AGUAS DA PRATA          8262      639   26    BOLSONARO     3172  \n",
              "8    AGUAS DA PRATA          8262      639   26    HADDAD         997  \n",
              "9    AGUAS DE LINDOIA       18908     2023   50    BOLSONARO     8221  \n",
              "10   AGUAS DE LINDOIA       18908     2023   50    HADDAD        1712  \n",
              "11   AGUAS DE SANTA BARBARA  6142      590   18    BOLSONARO     2448  \n",
              "12   AGUAS DE SANTA BARBARA  6142      590   18    HADDAD         850  \n",
              "13   AGUAS DE SAO PEDRO      3588      455   11    BOLSONARO     2062  \n",
              "14   AGUAS DE SAO PEDRO      3588      455   11    HADDAD         560  \n",
              "15   AGUDOS                 37582     4673  110    BOLSONARO    15379  \n",
              "16   AGUDOS                 37582     4673  110    HADDAD        4571  \n",
              "17   ALAMBARI                6231      679   12    BOLSONARO     2432  \n",
              "18   ALAMBARI                6231      679   12    HADDAD         747  \n",
              "19   ALFREDO MARCONDES       4201      265   13    BOLSONARO     1880  \n",
              "20   ALFREDO MARCONDES       4201      265   13    HADDAD         853  \n",
              "21   ALTAIR                  4211      334   17    BOLSONARO     1269  \n",
              "22   ALTAIR                  4211      334   17    HADDAD         808  \n",
              "23   ALTINOPOLIS            16221     1016   50    BOLSONARO     5115  \n",
              "24   ALTINOPOLIS            16221     1016   50    HADDAD        2905  \n",
              "25   ALTO ALEGRE             4078      395   21    BOLSONARO     1932  \n",
              "26   ALTO ALEGRE             4078      395   21    HADDAD         576  \n",
              "27   ALUMINIO               18903     1604   52    BOLSONARO     6530  \n",
              "28   ALUMINIO               18903     1604   52    HADDAD        3054  \n",
              "29   ALVARES FLORENCE        3616      616   14    BOLSONARO     2008  \n",
              "30   ALVARES FLORENCE        3616      616   14    HADDAD         637  \n",
              "⋮    ⋮                      ⋮         ⋮     ⋮      ⋮            ⋮      \n",
              "1270 VITORIA BRASIL           1852      250   9    BOLSONARO      753  \n",
              "1271 VITORIA BRASIL           1852      250   9    HADDAD         405  \n",
              "1272 VOTORANTIM             124468    11502 514    BOLSONARO    46025  \n",
              "1273 VOTORANTIM             124468    11502 514    HADDAD       16250  \n",
              "1274 VOTUPORANGA             96106    15824 451    BOLSONARO    36114  \n",
              "1275 VOTUPORANGA             96106    15824 451    HADDAD       10502  \n",
              "1276 ZACARIAS                 2784      263  10    BOLSONARO     1132  \n",
              "1277 ZACARIAS                 2784      263  10    HADDAD         457  \n",
              "1278 CHAVANTES               12418     1321  48    BOLSONARO     4551  \n",
              "1279 CHAVANTES               12418     1321  48    HADDAD        1738  \n",
              "1280 ESTIVA GERBI            11507      805  33    BOLSONARO     4662  \n",
              "1281 ESTIVA GERBI            11507      805  33    HADDAD        1395  \n",
              "1282 APARECIDA D OESTE          NA       NA  NA    BOLSONARO     1547  \n",
              "1283 ESTRELA D OESTE            NA       NA  NA    BOLSONARO     3624  \n",
              "1284 GUARANI D OESTE            NA       NA  NA    BOLSONARO      582  \n",
              "1285 PALMEIRA D OESTE           NA       NA  NA    BOLSONARO     3406  \n",
              "1286 SANTA BARBARA D OESTE      NA       NA  NA    BOLSONARO    76429  \n",
              "1287 SANTA CLARA D OESTE        NA       NA  NA    BOLSONARO      988  \n",
              "1288 SANTA RITA D OESTE         NA       NA  NA    BOLSONARO     1127  \n",
              "1289 SAO JOAO DO PAU D ALHO     NA       NA  NA    BOLSONARO      860  \n",
              "1290 SAO LUIS DO PARAITINGA     NA       NA  NA    BOLSONARO     4486  \n",
              "1291 APARECIDA D OESTE          NA       NA  NA    HADDAD        1090  \n",
              "1292 ESTRELA D OESTE            NA       NA  NA    HADDAD        1095  \n",
              "1293 GUARANI D OESTE            NA       NA  NA    HADDAD         459  \n",
              "1294 PALMEIRA D OESTE           NA       NA  NA    HADDAD        1698  \n",
              "1295 SANTA BARBARA D OESTE      NA       NA  NA    HADDAD       22479  \n",
              "1296 SANTA CLARA D OESTE        NA       NA  NA    HADDAD         464  \n",
              "1297 SANTA RITA D OESTE         NA       NA  NA    HADDAD         511  \n",
              "1298 SAO JOAO DO PAU D ALHO     NA       NA  NA    HADDAD         579  \n",
              "1299 SAO LUIS DO PARAITINGA     NA       NA  NA    HADDAD        2033  "
            ]
          },
          "metadata": {}
        }
      ]
    },
    {
      "cell_type": "markdown",
      "source": [
        "8. Apresente um gráfico de pontos, usando ggplot2, que tenha em seu eixo X a proporção de votos em favor\n",
        "Bolsonaro dentro da população e, no eixo Y, a proporção de casos de COVID-19 observada entre os habitantes\n",
        "daquele município."
      ],
      "metadata": {
        "id": "vIno4rADLROE"
      }
    },
    {
      "cell_type": "code",
      "source": [
        "novo <- dados_covid_sp %>% group_by(NM_CANDIDATO) %>%\n",
        "            filter(NM_CANDIDATO == \"BOLSONARO\") %>%\n",
        "            mutate(prop_bolso = votos_t/POPULACAO, prop_covid = CASOS/POPULACAO)\n",
        "\n",
        "\n",
        "\n",
        "\n",
        "ggplot(novo, aes(x = prop_bolso, y = prop_covid)) + geom_point() + theme_bw()"
      ],
      "metadata": {
        "colab": {
          "base_uri": "https://localhost:8080/",
          "height": 437
        },
        "id": "9YvrgmlpKB-Y",
        "outputId": "da609fc6-d78b-4d64-abce-d055914e860f"
      },
      "execution_count": 13,
      "outputs": [
        {
          "output_type": "display_data",
          "data": {
            "text/plain": [
              "plot without title"
            ],
            "image/png": "[encoded data removed]"
          },
          "metadata": {
            "image/png": {
              "width": 420,
              "height": 420
            }
          }
        }
      ]
    }
  ]
}